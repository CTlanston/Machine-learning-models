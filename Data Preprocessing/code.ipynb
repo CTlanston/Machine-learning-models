{
  "nbformat": 4,
  "nbformat_minor": 0,
  "metadata": {
    "kernelspec": {
      "display_name": "Python 3",
      "language": "python",
      "name": "python3"
    },
    "language_info": {
      "codemirror_mode": {
        "name": "ipython",
        "version": 3
      },
      "file_extension": ".py",
      "mimetype": "text/x-python",
      "name": "python",
      "nbconvert_exporter": "python",
      "pygments_lexer": "ipython3",
      "version": "3.7.3"
    },
    "toc": {
      "base_numbering": 1,
      "nav_menu": {},
      "number_sections": true,
      "sideBar": true,
      "skip_h1_title": false,
      "title_cell": "Table of Contents",
      "title_sidebar": "Contents",
      "toc_cell": false,
      "toc_position": {},
      "toc_section_display": true,
      "toc_window_display": false
    },
    "colab": {
      "provenance": []
    }
  },
  "cells": [
    {
      "cell_type": "markdown",
      "metadata": {
        "id": "53G8YQCcEFKG"
      },
      "source": [
        "# Data Preprocessing"
      ]
    },
    {
      "cell_type": "markdown",
      "metadata": {
        "id": "frvDXXmzEFKH"
      },
      "source": [
        "The quality of the data and the amount of useful information that it contains are key actors that determine how well a machine learning algorithm will perform. In this notebook, we discuss some essential preprocessing techniques that will help us to build good machine learning models."
      ]
    },
    {
      "cell_type": "markdown",
      "metadata": {
        "id": "_FOIf8uvEFKI"
      },
      "source": [
        "# Dealing with missing data"
      ]
    },
    {
      "cell_type": "markdown",
      "metadata": {
        "id": "Aq3tZGh8EFKJ"
      },
      "source": [
        "It is not uncommmon in real world applications that our samples are missing one or more values for various reasons. There could have been an error in the data collection process, certain measurements are not applicable, particular fields could been simply left blanck in a survey, for example. We typically see *(missing values* as the blank spaces in our data table or as placeholdstrings such as NaN or NULL."
      ]
    },
    {
      "cell_type": "markdown",
      "metadata": {
        "id": "CI95DSq4EFKK"
      },
      "source": [
        "Unfortunately, most computational tools are unable to handle such missing values or would produce unpredictable results if we simply ignored them. Therefore, it is critical that we take care of missing values before we proceed with further analyses. But before we discuss several techniques for dealing with missing values, let's create a simple example data frame from a CSV file to get a better grasp of the problem."
      ]
    },
    {
      "cell_type": "code",
      "metadata": {
        "id": "UD2ELcC8EFKL",
        "colab": {
          "base_uri": "https://localhost:8080/",
          "height": 142
        },
        "outputId": "e5790a44-1311-4c46-bdf3-37f1a12271a6"
      },
      "source": [
        "import pandas as pd\n",
        "from io import StringIO\n",
        "import sys\n",
        "\n",
        "csv_data = \\\n",
        "'''A,B,C,D\n",
        "1.0,2.0,3.0,4.0\n",
        "5.0,6.0,,8.0\n",
        "10.0,11.0,12.0,'''\n",
        "\n",
        "# If you are using Python 2.7, you need\n",
        "# to convert the string to unicode:\n",
        "\n",
        "if (sys.version_info < (3, 0)):\n",
        "    csv_data = unicode(csv_data)\n",
        "\n",
        "df = pd.read_csv(StringIO(csv_data))\n",
        "df"
      ],
      "execution_count": null,
      "outputs": [
        {
          "output_type": "execute_result",
          "data": {
            "text/html": [
              "<div>\n",
              "<style scoped>\n",
              "    .dataframe tbody tr th:only-of-type {\n",
              "        vertical-align: middle;\n",
              "    }\n",
              "\n",
              "    .dataframe tbody tr th {\n",
              "        vertical-align: top;\n",
              "    }\n",
              "\n",
              "    .dataframe thead th {\n",
              "        text-align: right;\n",
              "    }\n",
              "</style>\n",
              "<table border=\"1\" class=\"dataframe\">\n",
              "  <thead>\n",
              "    <tr style=\"text-align: right;\">\n",
              "      <th></th>\n",
              "      <th>A</th>\n",
              "      <th>B</th>\n",
              "      <th>C</th>\n",
              "      <th>D</th>\n",
              "    </tr>\n",
              "  </thead>\n",
              "  <tbody>\n",
              "    <tr>\n",
              "      <th>0</th>\n",
              "      <td>1.0</td>\n",
              "      <td>2.0</td>\n",
              "      <td>3.0</td>\n",
              "      <td>4.0</td>\n",
              "    </tr>\n",
              "    <tr>\n",
              "      <th>1</th>\n",
              "      <td>5.0</td>\n",
              "      <td>6.0</td>\n",
              "      <td>NaN</td>\n",
              "      <td>8.0</td>\n",
              "    </tr>\n",
              "    <tr>\n",
              "      <th>2</th>\n",
              "      <td>10.0</td>\n",
              "      <td>11.0</td>\n",
              "      <td>12.0</td>\n",
              "      <td>NaN</td>\n",
              "    </tr>\n",
              "  </tbody>\n",
              "</table>\n",
              "</div>"
            ],
            "text/plain": [
              "      A     B     C    D\n",
              "0   1.0   2.0   3.0  4.0\n",
              "1   5.0   6.0   NaN  8.0\n",
              "2  10.0  11.0  12.0  NaN"
            ]
          },
          "metadata": {},
          "execution_count": 3
        }
      ]
    },
    {
      "cell_type": "markdown",
      "metadata": {
        "id": "3aKZDcVZEFKR"
      },
      "source": [
        "Using the preceding code, we read CSV-formatted data into a pandas *DataFrame* via the read_csv function and noticed that two missing cells were replaced by NaN. The StringIO function in the preceding code example was smply used for the purpose of illustration. It allows us to read the string assigned to csv_data into a pandas DataFrame as if it was a regular CSV file on our hard drive.\n",
        "\n",
        "\n",
        "For a larger DataFrame, it can be tedious to look for missing values manually; in this case, we can use the isnull method to return a datarame with Boolean values that indicate whether a cell contains a numeric value (False) ir if the data is miissing (True). Using the sum method, we can then return the number of missing values per column as follows:"
      ]
    },
    {
      "cell_type": "code",
      "metadata": {
        "id": "UwnqA4e5EFKS",
        "colab": {
          "base_uri": "https://localhost:8080/"
        },
        "outputId": "ba2414c2-9496-43c5-f102-e7d8e85e500c"
      },
      "source": [
        "#Missing Values per Column\n",
        "df.isnull().sum()"
      ],
      "execution_count": null,
      "outputs": [
        {
          "output_type": "execute_result",
          "data": {
            "text/plain": [
              "A    0\n",
              "B    0\n",
              "C    1\n",
              "D    1\n",
              "dtype: int64"
            ]
          },
          "metadata": {},
          "execution_count": 4
        }
      ]
    },
    {
      "cell_type": "markdown",
      "metadata": {
        "id": "XkqKzYNBEFKV"
      },
      "source": [
        "This way we can count the number of missing values per column; in the followinf subsections, we will take a look at different strategies for how to deal with missing data."
      ]
    },
    {
      "cell_type": "markdown",
      "metadata": {
        "id": "ILDMb_IEEFKV"
      },
      "source": [
        "Note: Although scikit learn was developed for working with Numpy arrays, it can sometimes be more convenient to preprocess data using pandas' DataFrame. We can always access the underlying Numpy array of the DataFrame via the *values* attribute before we feed it into a scikit-estimator:"
      ]
    },
    {
      "cell_type": "code",
      "metadata": {
        "id": "wQ8gk-YdEFKW",
        "colab": {
          "base_uri": "https://localhost:8080/"
        },
        "outputId": "97519c9f-02d0-45e6-9a82-31ccea1b60e6"
      },
      "source": [
        "#Access the underlying Numpy array of the DataFrame\n",
        "df.values"
      ],
      "execution_count": null,
      "outputs": [
        {
          "output_type": "execute_result",
          "data": {
            "text/plain": [
              "array([[ 1.,  2.,  3.,  4.],\n",
              "       [ 5.,  6., nan,  8.],\n",
              "       [10., 11., 12., nan]])"
            ]
          },
          "metadata": {},
          "execution_count": 5
        }
      ]
    },
    {
      "cell_type": "markdown",
      "metadata": {
        "id": "Oi-0Qx30EFKY"
      },
      "source": [
        "## Eliminating samples or features with missing data"
      ]
    },
    {
      "cell_type": "markdown",
      "metadata": {
        "id": "sR7LOkYvEFKY"
      },
      "source": [
        "One of the easiest ways to deal with missing data is to simply remove the corresponding features (columns) or samples (rows) from the dataset entirely; rows with missing values can be easily dropped via the *dropna* method:"
      ]
    },
    {
      "cell_type": "code",
      "metadata": {
        "id": "eTf3qCM0EFKZ",
        "colab": {
          "base_uri": "https://localhost:8080/",
          "height": 80
        },
        "outputId": "f4fa6dd3-514f-43f2-843e-aa1baf56d4f9"
      },
      "source": [
        "#Drop Rows with Missing Values\n",
        "df.dropna(axis=0)"
      ],
      "execution_count": null,
      "outputs": [
        {
          "output_type": "execute_result",
          "data": {
            "text/html": [
              "<div>\n",
              "<style scoped>\n",
              "    .dataframe tbody tr th:only-of-type {\n",
              "        vertical-align: middle;\n",
              "    }\n",
              "\n",
              "    .dataframe tbody tr th {\n",
              "        vertical-align: top;\n",
              "    }\n",
              "\n",
              "    .dataframe thead th {\n",
              "        text-align: right;\n",
              "    }\n",
              "</style>\n",
              "<table border=\"1\" class=\"dataframe\">\n",
              "  <thead>\n",
              "    <tr style=\"text-align: right;\">\n",
              "      <th></th>\n",
              "      <th>A</th>\n",
              "      <th>B</th>\n",
              "      <th>C</th>\n",
              "      <th>D</th>\n",
              "    </tr>\n",
              "  </thead>\n",
              "  <tbody>\n",
              "    <tr>\n",
              "      <th>0</th>\n",
              "      <td>1.0</td>\n",
              "      <td>2.0</td>\n",
              "      <td>3.0</td>\n",
              "      <td>4.0</td>\n",
              "    </tr>\n",
              "  </tbody>\n",
              "</table>\n",
              "</div>"
            ],
            "text/plain": [
              "     A    B    C    D\n",
              "0  1.0  2.0  3.0  4.0"
            ]
          },
          "metadata": {},
          "execution_count": 6
        }
      ]
    },
    {
      "cell_type": "markdown",
      "metadata": {
        "id": "phMbDsCgEFKa"
      },
      "source": [
        "Similarly, we can drop columns that have at least one NaN in any row by setting the *axis* argument to $1$:"
      ]
    },
    {
      "cell_type": "code",
      "metadata": {
        "id": "W0z-Ov7gEFKb",
        "colab": {
          "base_uri": "https://localhost:8080/",
          "height": 142
        },
        "outputId": "7e891464-ae1d-402d-d12d-026da6e1c0e8"
      },
      "source": [
        "#Drop Features with Missing Values\n",
        "df.dropna(axis=1)"
      ],
      "execution_count": null,
      "outputs": [
        {
          "output_type": "execute_result",
          "data": {
            "text/html": [
              "<div>\n",
              "<style scoped>\n",
              "    .dataframe tbody tr th:only-of-type {\n",
              "        vertical-align: middle;\n",
              "    }\n",
              "\n",
              "    .dataframe tbody tr th {\n",
              "        vertical-align: top;\n",
              "    }\n",
              "\n",
              "    .dataframe thead th {\n",
              "        text-align: right;\n",
              "    }\n",
              "</style>\n",
              "<table border=\"1\" class=\"dataframe\">\n",
              "  <thead>\n",
              "    <tr style=\"text-align: right;\">\n",
              "      <th></th>\n",
              "      <th>A</th>\n",
              "      <th>B</th>\n",
              "    </tr>\n",
              "  </thead>\n",
              "  <tbody>\n",
              "    <tr>\n",
              "      <th>0</th>\n",
              "      <td>1.0</td>\n",
              "      <td>2.0</td>\n",
              "    </tr>\n",
              "    <tr>\n",
              "      <th>1</th>\n",
              "      <td>5.0</td>\n",
              "      <td>6.0</td>\n",
              "    </tr>\n",
              "    <tr>\n",
              "      <th>2</th>\n",
              "      <td>10.0</td>\n",
              "      <td>11.0</td>\n",
              "    </tr>\n",
              "  </tbody>\n",
              "</table>\n",
              "</div>"
            ],
            "text/plain": [
              "      A     B\n",
              "0   1.0   2.0\n",
              "1   5.0   6.0\n",
              "2  10.0  11.0"
            ]
          },
          "metadata": {},
          "execution_count": 7
        }
      ]
    },
    {
      "cell_type": "markdown",
      "metadata": {
        "id": "bcBhDPn5EFKc"
      },
      "source": [
        "THE *dropna* method supports several additional parameters that can come in handy:"
      ]
    },
    {
      "cell_type": "code",
      "metadata": {
        "id": "pr4UWoOCEFKd",
        "colab": {
          "base_uri": "https://localhost:8080/",
          "height": 142
        },
        "outputId": "4e4d9550-ed42-4a8a-a491-7bc2d3b124ba"
      },
      "source": [
        "#Only drop rows where all columns are NaN\n",
        "df.dropna(how='all')"
      ],
      "execution_count": null,
      "outputs": [
        {
          "output_type": "execute_result",
          "data": {
            "text/html": [
              "<div>\n",
              "<style scoped>\n",
              "    .dataframe tbody tr th:only-of-type {\n",
              "        vertical-align: middle;\n",
              "    }\n",
              "\n",
              "    .dataframe tbody tr th {\n",
              "        vertical-align: top;\n",
              "    }\n",
              "\n",
              "    .dataframe thead th {\n",
              "        text-align: right;\n",
              "    }\n",
              "</style>\n",
              "<table border=\"1\" class=\"dataframe\">\n",
              "  <thead>\n",
              "    <tr style=\"text-align: right;\">\n",
              "      <th></th>\n",
              "      <th>A</th>\n",
              "      <th>B</th>\n",
              "      <th>C</th>\n",
              "      <th>D</th>\n",
              "    </tr>\n",
              "  </thead>\n",
              "  <tbody>\n",
              "    <tr>\n",
              "      <th>0</th>\n",
              "      <td>1.0</td>\n",
              "      <td>2.0</td>\n",
              "      <td>3.0</td>\n",
              "      <td>4.0</td>\n",
              "    </tr>\n",
              "    <tr>\n",
              "      <th>1</th>\n",
              "      <td>5.0</td>\n",
              "      <td>6.0</td>\n",
              "      <td>NaN</td>\n",
              "      <td>8.0</td>\n",
              "    </tr>\n",
              "    <tr>\n",
              "      <th>2</th>\n",
              "      <td>10.0</td>\n",
              "      <td>11.0</td>\n",
              "      <td>12.0</td>\n",
              "      <td>NaN</td>\n",
              "    </tr>\n",
              "  </tbody>\n",
              "</table>\n",
              "</div>"
            ],
            "text/plain": [
              "      A     B     C    D\n",
              "0   1.0   2.0   3.0  4.0\n",
              "1   5.0   6.0   NaN  8.0\n",
              "2  10.0  11.0  12.0  NaN"
            ]
          },
          "metadata": {},
          "execution_count": 8
        }
      ]
    },
    {
      "cell_type": "code",
      "metadata": {
        "id": "NuVTh2aoEFKe",
        "colab": {
          "base_uri": "https://localhost:8080/",
          "height": 80
        },
        "outputId": "b30868d8-862c-4269-c221-4d3600f46264"
      },
      "source": [
        "#Drop rows that have less than 3 real values\n",
        "df.dropna(thresh=4)"
      ],
      "execution_count": null,
      "outputs": [
        {
          "output_type": "execute_result",
          "data": {
            "text/html": [
              "<div>\n",
              "<style scoped>\n",
              "    .dataframe tbody tr th:only-of-type {\n",
              "        vertical-align: middle;\n",
              "    }\n",
              "\n",
              "    .dataframe tbody tr th {\n",
              "        vertical-align: top;\n",
              "    }\n",
              "\n",
              "    .dataframe thead th {\n",
              "        text-align: right;\n",
              "    }\n",
              "</style>\n",
              "<table border=\"1\" class=\"dataframe\">\n",
              "  <thead>\n",
              "    <tr style=\"text-align: right;\">\n",
              "      <th></th>\n",
              "      <th>A</th>\n",
              "      <th>B</th>\n",
              "      <th>C</th>\n",
              "      <th>D</th>\n",
              "    </tr>\n",
              "  </thead>\n",
              "  <tbody>\n",
              "    <tr>\n",
              "      <th>0</th>\n",
              "      <td>1.0</td>\n",
              "      <td>2.0</td>\n",
              "      <td>3.0</td>\n",
              "      <td>4.0</td>\n",
              "    </tr>\n",
              "  </tbody>\n",
              "</table>\n",
              "</div>"
            ],
            "text/plain": [
              "     A    B    C    D\n",
              "0  1.0  2.0  3.0  4.0"
            ]
          },
          "metadata": {},
          "execution_count": 9
        }
      ]
    },
    {
      "cell_type": "code",
      "metadata": {
        "id": "t-uwAbwIEFKf",
        "colab": {
          "base_uri": "https://localhost:8080/",
          "height": 111
        },
        "outputId": "a73e4036-42c2-4533-ea4c-ba710d8aefd6"
      },
      "source": [
        "#Only drop rows where NaN appear in specific columns (here: 'C')\n",
        "df.dropna(subset=['C'])"
      ],
      "execution_count": null,
      "outputs": [
        {
          "output_type": "execute_result",
          "data": {
            "text/html": [
              "<div>\n",
              "<style scoped>\n",
              "    .dataframe tbody tr th:only-of-type {\n",
              "        vertical-align: middle;\n",
              "    }\n",
              "\n",
              "    .dataframe tbody tr th {\n",
              "        vertical-align: top;\n",
              "    }\n",
              "\n",
              "    .dataframe thead th {\n",
              "        text-align: right;\n",
              "    }\n",
              "</style>\n",
              "<table border=\"1\" class=\"dataframe\">\n",
              "  <thead>\n",
              "    <tr style=\"text-align: right;\">\n",
              "      <th></th>\n",
              "      <th>A</th>\n",
              "      <th>B</th>\n",
              "      <th>C</th>\n",
              "      <th>D</th>\n",
              "    </tr>\n",
              "  </thead>\n",
              "  <tbody>\n",
              "    <tr>\n",
              "      <th>0</th>\n",
              "      <td>1.0</td>\n",
              "      <td>2.0</td>\n",
              "      <td>3.0</td>\n",
              "      <td>4.0</td>\n",
              "    </tr>\n",
              "    <tr>\n",
              "      <th>2</th>\n",
              "      <td>10.0</td>\n",
              "      <td>11.0</td>\n",
              "      <td>12.0</td>\n",
              "      <td>NaN</td>\n",
              "    </tr>\n",
              "  </tbody>\n",
              "</table>\n",
              "</div>"
            ],
            "text/plain": [
              "      A     B     C    D\n",
              "0   1.0   2.0   3.0  4.0\n",
              "2  10.0  11.0  12.0  NaN"
            ]
          },
          "metadata": {},
          "execution_count": 10
        }
      ]
    },
    {
      "cell_type": "markdown",
      "metadata": {
        "id": "EdBLQ1R6EFKh"
      },
      "source": [
        "Although the removal of missing data seems to be a convenient approach, it also comes with certain disadavantages"
      ]
    },
    {
      "cell_type": "markdown",
      "metadata": {
        "id": "ttYJBWreEFKh"
      },
      "source": [
        "## Imputing missing values"
      ]
    },
    {
      "cell_type": "markdown",
      "metadata": {
        "id": "4Iu8j7ewEFKh"
      },
      "source": [
        "Often, the removal of samples or dropping of entire feature columns is simply note feasible, because we might lose too much valuable data. in this case, we can use different interpolation techniques to estimate the missing values from the other training samples in our dataset. One of the most common techniques is the mean imputation, where we simply replace the missing value by the mean value of the entire feature colun. A convenient way to achieve this is by using the *Imputer* class from scikit-learn, as shown in the following code:"
      ]
    },
    {
      "cell_type": "code",
      "metadata": {
        "id": "A8i5ho0aEFKh",
        "colab": {
          "base_uri": "https://localhost:8080/"
        },
        "outputId": "1ac2b427-b004-423f-f755-de4cb37ff680"
      },
      "source": [
        "#Original array\n",
        "df.values"
      ],
      "execution_count": null,
      "outputs": [
        {
          "output_type": "execute_result",
          "data": {
            "text/plain": [
              "array([[ 1.,  2.,  3.,  4.],\n",
              "       [ 5.,  6., nan,  8.],\n",
              "       [10., 11., 12., nan]])"
            ]
          },
          "metadata": {},
          "execution_count": 11
        }
      ]
    },
    {
      "cell_type": "code",
      "metadata": {
        "id": "Ca0nEtcyEFKi",
        "colab": {
          "base_uri": "https://localhost:8080/"
        },
        "outputId": "9bfebf64-782f-4c56-8845-bbd17964f8f6"
      },
      "source": [
        "#Impute missing values via the column mean\n",
        "from sklearn.impute import SimpleImputer\n",
        "import numpy as np\n",
        "\n",
        "imr = SimpleImputer(missing_values=np.nan, strategy='mean')\n",
        "imr = imr.fit(df.values)\n",
        "imputed_data = imr.transform(df.values)\n",
        "imputed_data"
      ],
      "execution_count": null,
      "outputs": [
        {
          "output_type": "execute_result",
          "data": {
            "text/plain": [
              "array([[ 1. ,  2. ,  3. ,  4. ],\n",
              "       [ 5. ,  6. ,  7.5,  8. ],\n",
              "       [10. , 11. , 12. ,  6. ]])"
            ]
          },
          "metadata": {},
          "execution_count": 12
        }
      ]
    },
    {
      "cell_type": "markdown",
      "metadata": {
        "id": "4cDhD74rEFKk"
      },
      "source": [
        "Here, we replaced each NaN value by the corresponding mean, which is separately calculated for each feature column. If we changed the setting axis=0 to axis-1, we'd calculate the row means. Other options for the *strategy* parameter are *median* or *most_frequent*, where the latter replaces issing values by the most frequent values. This is useful for imputing categorical feature values."
      ]
    },
    {
      "cell_type": "markdown",
      "metadata": {
        "id": "2z7PLxG6EFKk"
      },
      "source": [
        "# Handling categorical data"
      ]
    },
    {
      "cell_type": "markdown",
      "metadata": {
        "id": "7fLoHxH-EFKk"
      },
      "source": [
        "It is common that real-world datasets contain one or more categorical feature columns. When we are talking about categorical data, we have to further distinguish between **nominal** and **ordinal** features. Ordinal features can be understood as categorical values that can be sorted or ordered. For example, t-shirt size would be an ordinal feature, because we can define an order *XL>L>M>S*. In contrast, nominal features don't imply any order and, to continue with the previosu example, we can think of t-shirt color as a nominal feature since it typically doesn't make sense to say that, for example, red is larger than blue."
      ]
    },
    {
      "cell_type": "markdown",
      "metadata": {
        "id": "v6VwlUm9EFKk"
      },
      "source": [
        "Before er explore different techniques to handle such categorical data, let's create a new data frame to illustrate the problem:"
      ]
    },
    {
      "cell_type": "code",
      "metadata": {
        "id": "aLjJ1FJvEFKk",
        "colab": {
          "base_uri": "https://localhost:8080/",
          "height": 142
        },
        "outputId": "9b9c736d-87bb-4444-add4-ef27c0f3a80c"
      },
      "source": [
        "import pandas as pd\n",
        "\n",
        "#Original DF\n",
        "df = pd.DataFrame([['green', 'M', 10.1, 'class1'],\n",
        "                   ['red', 'L', 13.5, 'class2'],\n",
        "                   ['blue', 'XL', 15.3, 'class1']])\n",
        "\n",
        "df.columns = ['color', 'size', 'price', 'classlabel']\n",
        "df"
      ],
      "execution_count": null,
      "outputs": [
        {
          "output_type": "execute_result",
          "data": {
            "text/html": [
              "<div>\n",
              "<style scoped>\n",
              "    .dataframe tbody tr th:only-of-type {\n",
              "        vertical-align: middle;\n",
              "    }\n",
              "\n",
              "    .dataframe tbody tr th {\n",
              "        vertical-align: top;\n",
              "    }\n",
              "\n",
              "    .dataframe thead th {\n",
              "        text-align: right;\n",
              "    }\n",
              "</style>\n",
              "<table border=\"1\" class=\"dataframe\">\n",
              "  <thead>\n",
              "    <tr style=\"text-align: right;\">\n",
              "      <th></th>\n",
              "      <th>color</th>\n",
              "      <th>size</th>\n",
              "      <th>price</th>\n",
              "      <th>classlabel</th>\n",
              "    </tr>\n",
              "  </thead>\n",
              "  <tbody>\n",
              "    <tr>\n",
              "      <th>0</th>\n",
              "      <td>green</td>\n",
              "      <td>M</td>\n",
              "      <td>10.1</td>\n",
              "      <td>class1</td>\n",
              "    </tr>\n",
              "    <tr>\n",
              "      <th>1</th>\n",
              "      <td>red</td>\n",
              "      <td>L</td>\n",
              "      <td>13.5</td>\n",
              "      <td>class2</td>\n",
              "    </tr>\n",
              "    <tr>\n",
              "      <th>2</th>\n",
              "      <td>blue</td>\n",
              "      <td>XL</td>\n",
              "      <td>15.3</td>\n",
              "      <td>class1</td>\n",
              "    </tr>\n",
              "  </tbody>\n",
              "</table>\n",
              "</div>"
            ],
            "text/plain": [
              "   color size  price classlabel\n",
              "0  green    M   10.1     class1\n",
              "1    red    L   13.5     class2\n",
              "2   blue   XL   15.3     class1"
            ]
          },
          "metadata": {},
          "execution_count": 13
        }
      ]
    },
    {
      "cell_type": "markdown",
      "metadata": {
        "id": "NA3IhtxkEFKm"
      },
      "source": [
        "As we can see above, the newly created DataFrame contains a nominal feature (color), an ordinal feature (size), and a numerical feature (price) column. The class labels (assuming that we created a dataset for a supervised learning task) are stored in the last column. The learning algorithms for classification that we discuss in this book do not use ordinal information in the class labels."
      ]
    },
    {
      "cell_type": "markdown",
      "metadata": {
        "id": "IHkzyMEWEFKm"
      },
      "source": [
        "## Mapping ordinal features"
      ]
    },
    {
      "cell_type": "markdown",
      "metadata": {
        "id": "ENBiv3xsEFKm"
      },
      "source": [
        "To make sure that the learning algorithm interprets the ordinal features correctly, we need to convert the categorical string values into integers. Unfortunately, there is not convenient function that can automatically derive the correct order of the labels of our *size* feature. Thus, we have to define the mapping manually. In the following simple example, let's assume that we know the difference between features for example XL=L+1=M+2."
      ]
    },
    {
      "cell_type": "code",
      "metadata": {
        "id": "wFLOcZTXEFKn",
        "colab": {
          "base_uri": "https://localhost:8080/",
          "height": 142
        },
        "outputId": "97d84695-1131-4d2e-fb8e-1c08cd554055"
      },
      "source": [
        "#Mapping Ordinal Features\n",
        "size_mapping = {'XL': 3,\n",
        "                'L': 2,\n",
        "                'M': 1}\n",
        "\n",
        "df['size'] = df['size'].map(size_mapping)\n",
        "df"
      ],
      "execution_count": null,
      "outputs": [
        {
          "output_type": "execute_result",
          "data": {
            "text/html": [
              "<div>\n",
              "<style scoped>\n",
              "    .dataframe tbody tr th:only-of-type {\n",
              "        vertical-align: middle;\n",
              "    }\n",
              "\n",
              "    .dataframe tbody tr th {\n",
              "        vertical-align: top;\n",
              "    }\n",
              "\n",
              "    .dataframe thead th {\n",
              "        text-align: right;\n",
              "    }\n",
              "</style>\n",
              "<table border=\"1\" class=\"dataframe\">\n",
              "  <thead>\n",
              "    <tr style=\"text-align: right;\">\n",
              "      <th></th>\n",
              "      <th>color</th>\n",
              "      <th>size</th>\n",
              "      <th>price</th>\n",
              "      <th>classlabel</th>\n",
              "    </tr>\n",
              "  </thead>\n",
              "  <tbody>\n",
              "    <tr>\n",
              "      <th>0</th>\n",
              "      <td>green</td>\n",
              "      <td>1</td>\n",
              "      <td>10.1</td>\n",
              "      <td>class1</td>\n",
              "    </tr>\n",
              "    <tr>\n",
              "      <th>1</th>\n",
              "      <td>red</td>\n",
              "      <td>2</td>\n",
              "      <td>13.5</td>\n",
              "      <td>class2</td>\n",
              "    </tr>\n",
              "    <tr>\n",
              "      <th>2</th>\n",
              "      <td>blue</td>\n",
              "      <td>3</td>\n",
              "      <td>15.3</td>\n",
              "      <td>class1</td>\n",
              "    </tr>\n",
              "  </tbody>\n",
              "</table>\n",
              "</div>"
            ],
            "text/plain": [
              "   color  size  price classlabel\n",
              "0  green     1   10.1     class1\n",
              "1    red     2   13.5     class2\n",
              "2   blue     3   15.3     class1"
            ]
          },
          "metadata": {},
          "execution_count": 14
        }
      ]
    },
    {
      "cell_type": "markdown",
      "metadata": {
        "id": "min2eZk0EFKo"
      },
      "source": [
        "If we want to transform the integer values back to the original string representation at a larger stage, we can simply define a reverse mapping that can be used via the pandas' map method on transformed feature column similar to the size mapping dictionary that we used previously:"
      ]
    },
    {
      "cell_type": "code",
      "metadata": {
        "id": "Vc_6MA2GEFKo",
        "colab": {
          "base_uri": "https://localhost:8080/"
        },
        "outputId": "9a568c6f-aff9-4380-f5d4-9759c758f6fa"
      },
      "source": [
        "#Reverse mapping: transform the integer values back to the original string representation\n",
        "inv_size_mapping = {v: k for k, v in size_mapping.items()}\n",
        "df['size'].map(inv_size_mapping)"
      ],
      "execution_count": null,
      "outputs": [
        {
          "output_type": "execute_result",
          "data": {
            "text/plain": [
              "0     M\n",
              "1     L\n",
              "2    XL\n",
              "Name: size, dtype: object"
            ]
          },
          "metadata": {},
          "execution_count": 15
        }
      ]
    },
    {
      "cell_type": "markdown",
      "metadata": {
        "id": "oadIvsm2EFKq"
      },
      "source": [
        "# Transforming categorical features to numeric features - Approach 1"
      ]
    },
    {
      "cell_type": "markdown",
      "metadata": {
        "id": "IJ7rXPqnEFKq"
      },
      "source": [
        "Previously, we used a simple dictionary-mapping approach to convert the ordinal size feature into integers. Since scikit-learn's estimators treat class labels without any order, we used the convenient *LabelEncoder* class to encode the string labels into integers. It may appear that we could use a similar approach to transform the nomimnal *color* column of our dataset, as follows:"
      ]
    },
    {
      "cell_type": "code",
      "metadata": {
        "id": "xYP5CX22EFKq",
        "colab": {
          "base_uri": "https://localhost:8080/"
        },
        "outputId": "98127c5e-8a9c-450c-8ab6-1a5fcbe7c9ba"
      },
      "source": [
        "#Categorical to Numeric : Use this only if there is an order in categorical values (i.e., see previous size example)\n",
        "from sklearn.preprocessing import LabelEncoder\n",
        "\n",
        "X = df[['color', 'size', 'price']].values\n",
        "\n",
        "color_le = LabelEncoder()\n",
        "X[:, 0] = color_le.fit_transform(X[:, 0])\n",
        "X"
      ],
      "execution_count": null,
      "outputs": [
        {
          "output_type": "execute_result",
          "data": {
            "text/plain": [
              "array([[1, 1, 10.1],\n",
              "       [2, 2, 13.5],\n",
              "       [0, 3, 15.3]], dtype=object)"
            ]
          },
          "metadata": {},
          "execution_count": 16
        }
      ]
    },
    {
      "cell_type": "markdown",
      "metadata": {
        "id": "6eiyiLRaEFKr"
      },
      "source": [
        "After executing the preceding code, the first column of the Numpy array X now holds the new *color* values, which are encoded as follows:\n",
        "\n",
        "- blue --> 0\n",
        "- green --> 1\n",
        "- red --> 2"
      ]
    },
    {
      "cell_type": "markdown",
      "metadata": {
        "id": "-axNdd8sEFKr"
      },
      "source": [
        "If we stop at this point and feed the array to the classifier, we will make ***one of the most common mistakes dealing with categorical data***. Can you spot the problem? Although the color values don't come in any particular order a learning algorithm will now assume that green is larger than blue and red is larger than green. Although this assumption is incorrect, the algorithm could stil produce useful results. However, those results would not be optimal.\n",
        "\n",
        "\n",
        "A common workaround for this problem is to use a technique called one-hot encoding. The idea behind this technque is to create a new *dummy feature* for each unique value in the nominal feature column. Here, we would convert the color geature into three new features: blue, green, and red. Binary values van the be encoded to indicate the particular color of a sample; for example, a blue sample can be encoded as blue=1, green=0, red=0. To perform this transformation, we can use the *OneHotEncoder* that is implemented in scikit-learn.preprocessing module:"
      ]
    },
    {
      "cell_type": "code",
      "metadata": {
        "scrolled": false,
        "id": "xjtAGTGkEFKs",
        "colab": {
          "base_uri": "https://localhost:8080/"
        },
        "outputId": "c6ec4c80-c859-4be3-f4a3-73537d102eee"
      },
      "source": [
        "from sklearn.preprocessing import OneHotEncoder\n",
        "from sklearn.compose import ColumnTransformer\n",
        "\n",
        "ohe = ColumnTransformer([(\"One_Hot_Encoding\",       # Documentation: https://scikit-learn.org/stable/modules/generated/sklearn.compose.ColumnTransformer.html\n",
        "                          OneHotEncoder(categories='auto'),[0])],\n",
        "                          remainder=\"passthrough\")  # By specifying remainder='passthrough', all remaining columns that were not specified in transformers will be automatically passed through.\n",
        "                         # \"One_Hot_Encoding\" is just the name of the step, this assists in future grid searches\n",
        "                         # The last arg ([0]) is the list of columns you want to transform in this step\n",
        "ohe.fit_transform(X)\n",
        "np.array(ohe.fit_transform(X), dtype=np.float)\n"
      ],
      "execution_count": null,
      "outputs": [
        {
          "output_type": "execute_result",
          "data": {
            "text/plain": [
              "array([[ 0. ,  1. ,  0. ,  1. , 10.1],\n",
              "       [ 0. ,  0. ,  1. ,  2. , 13.5],\n",
              "       [ 1. ,  0. ,  0. ,  3. , 15.3]])"
            ]
          },
          "metadata": {},
          "execution_count": 17
        }
      ]
    },
    {
      "cell_type": "markdown",
      "metadata": {
        "id": "7kUrAjzdEFKt"
      },
      "source": [
        "When we initialized the *OneHotEncoder*, we defined the column position of the variable that we want to transform via the *categorical_features* parameter (note that color this the first column in the feature matrix X). By default, the *OneHotEncoder* returns a sparse matrix when we use the *transform* method, and we converted the sparse matric representation to a regular (dense) NumPy array for the purpose of visualization via the *toawway* method. Sparse matrices are simply a more efficient way of storing large datasets, and one that is supported by many scikit-learn functions, which is especially useful if it contains a lot of zeros. To omit the *toarray* step, we could initialize the encoder as *OneHotEncoder(...,sparse=False)* to return a regular NumPy array."
      ]
    },
    {
      "cell_type": "code",
      "metadata": {
        "id": "I7ZkMKH2EFKt",
        "colab": {
          "base_uri": "https://localhost:8080/"
        },
        "outputId": "2002fb11-cd6c-4233-aa2b-d7d0844979ad"
      },
      "source": [
        "# return dense array so that we can skip\n",
        "# the toarray step\n",
        "\n",
        "# ohe = OneHotEncoder(categorical_features=[0], sparse=False)\n",
        "# ohe.fit_transform(X)\n",
        "\n",
        "ohe = ColumnTransformer([(\"One_Hot_Encoding_Sparse\",\n",
        "                          OneHotEncoder(categories='auto', sparse=False),[0])], # Will return sparse matrix if set True else will return an array.\n",
        "                          remainder=\"passthrough\")\n",
        "\n",
        "ohe.fit_transform(X)\n",
        "#np.array(ohe.fit_transform(X), dtype = np.float)"
      ],
      "execution_count": null,
      "outputs": [
        {
          "output_type": "execute_result",
          "data": {
            "text/plain": [
              "array([[0.0, 1.0, 0.0, 1, 10.1],\n",
              "       [0.0, 0.0, 1.0, 2, 13.5],\n",
              "       [1.0, 0.0, 0.0, 3, 15.3]], dtype=object)"
            ]
          },
          "metadata": {},
          "execution_count": 18
        }
      ]
    },
    {
      "cell_type": "code",
      "metadata": {
        "id": "tv8KlFEVEFKu",
        "colab": {
          "base_uri": "https://localhost:8080/"
        },
        "outputId": "16d9ced7-75da-4d8f-f25a-4fc046495521"
      },
      "source": [
        "# Multicollinearity guard for the OneHotEncoder\n",
        "ohe =  ColumnTransformer([(\"One_Hot_Encoding_Multi\",\n",
        "                          OneHotEncoder(categories='auto'),[0])],\n",
        "                          remainder=\"passthrough\")\n",
        "np.array(ohe.fit_transform(X)[:, 1:], dtype = np.float) # Alternatively, the drop paramter can be used\n",
        "                                                        # drop in OnteHotEndcode Specifies a methodology to use to drop one of the categories per feature.\n",
        "                                                        # This is useful in situations where perfectly collinear features cause problems, such as when feeding\n",
        "                                                        # the resulting data into a neural network or an unregularized regression.\n",
        "\n"
      ],
      "execution_count": null,
      "outputs": [
        {
          "output_type": "execute_result",
          "data": {
            "text/plain": [
              "array([[ 1. ,  0. ,  1. , 10.1],\n",
              "       [ 0. ,  1. ,  2. , 13.5],\n",
              "       [ 0. ,  0. ,  3. , 15.3]])"
            ]
          },
          "metadata": {},
          "execution_count": 19
        }
      ]
    },
    {
      "cell_type": "markdown",
      "metadata": {
        "id": "rortXqfaEFKw"
      },
      "source": [
        "An even more convenient way to create those dummy features via one-hot encoding, is to use the get_dummies method implemented in pandas. Applied on a DataFrame, the get_dummies method will only convert string columns and leave all other columns unchanged."
      ]
    },
    {
      "cell_type": "code",
      "metadata": {
        "id": "ozIJ3lxoEFKw",
        "colab": {
          "base_uri": "https://localhost:8080/",
          "height": 142
        },
        "outputId": "8f75d67a-0a36-4c18-c8c2-5a0cd8dbe149"
      },
      "source": [
        "# One-hot encoding via pandas\n",
        "pd.get_dummies(df[['price', 'color', 'size']])"
      ],
      "execution_count": null,
      "outputs": [
        {
          "output_type": "execute_result",
          "data": {
            "text/html": [
              "<div>\n",
              "<style scoped>\n",
              "    .dataframe tbody tr th:only-of-type {\n",
              "        vertical-align: middle;\n",
              "    }\n",
              "\n",
              "    .dataframe tbody tr th {\n",
              "        vertical-align: top;\n",
              "    }\n",
              "\n",
              "    .dataframe thead th {\n",
              "        text-align: right;\n",
              "    }\n",
              "</style>\n",
              "<table border=\"1\" class=\"dataframe\">\n",
              "  <thead>\n",
              "    <tr style=\"text-align: right;\">\n",
              "      <th></th>\n",
              "      <th>price</th>\n",
              "      <th>size</th>\n",
              "      <th>color_blue</th>\n",
              "      <th>color_green</th>\n",
              "      <th>color_red</th>\n",
              "    </tr>\n",
              "  </thead>\n",
              "  <tbody>\n",
              "    <tr>\n",
              "      <th>0</th>\n",
              "      <td>10.1</td>\n",
              "      <td>1</td>\n",
              "      <td>0</td>\n",
              "      <td>1</td>\n",
              "      <td>0</td>\n",
              "    </tr>\n",
              "    <tr>\n",
              "      <th>1</th>\n",
              "      <td>13.5</td>\n",
              "      <td>2</td>\n",
              "      <td>0</td>\n",
              "      <td>0</td>\n",
              "      <td>1</td>\n",
              "    </tr>\n",
              "    <tr>\n",
              "      <th>2</th>\n",
              "      <td>15.3</td>\n",
              "      <td>3</td>\n",
              "      <td>1</td>\n",
              "      <td>0</td>\n",
              "      <td>0</td>\n",
              "    </tr>\n",
              "  </tbody>\n",
              "</table>\n",
              "</div>"
            ],
            "text/plain": [
              "   price  size  color_blue  color_green  color_red\n",
              "0   10.1     1           0            1          0\n",
              "1   13.5     2           0            0          1\n",
              "2   15.3     3           1            0          0"
            ]
          },
          "metadata": {},
          "execution_count": 20
        }
      ]
    },
    {
      "cell_type": "code",
      "metadata": {
        "id": "Ou31IEJ0EFKx",
        "colab": {
          "base_uri": "https://localhost:8080/",
          "height": 142
        },
        "outputId": "3daf9fc9-df26-4a83-89a1-de2b952f74d4"
      },
      "source": [
        "# Multicollinearity guard in get_dummies\n",
        "pd.get_dummies(df[['price', 'color', 'size']], drop_first=True)"
      ],
      "execution_count": null,
      "outputs": [
        {
          "output_type": "execute_result",
          "data": {
            "text/html": [
              "<div>\n",
              "<style scoped>\n",
              "    .dataframe tbody tr th:only-of-type {\n",
              "        vertical-align: middle;\n",
              "    }\n",
              "\n",
              "    .dataframe tbody tr th {\n",
              "        vertical-align: top;\n",
              "    }\n",
              "\n",
              "    .dataframe thead th {\n",
              "        text-align: right;\n",
              "    }\n",
              "</style>\n",
              "<table border=\"1\" class=\"dataframe\">\n",
              "  <thead>\n",
              "    <tr style=\"text-align: right;\">\n",
              "      <th></th>\n",
              "      <th>price</th>\n",
              "      <th>size</th>\n",
              "      <th>color_green</th>\n",
              "      <th>color_red</th>\n",
              "    </tr>\n",
              "  </thead>\n",
              "  <tbody>\n",
              "    <tr>\n",
              "      <th>0</th>\n",
              "      <td>10.1</td>\n",
              "      <td>1</td>\n",
              "      <td>1</td>\n",
              "      <td>0</td>\n",
              "    </tr>\n",
              "    <tr>\n",
              "      <th>1</th>\n",
              "      <td>13.5</td>\n",
              "      <td>2</td>\n",
              "      <td>0</td>\n",
              "      <td>1</td>\n",
              "    </tr>\n",
              "    <tr>\n",
              "      <th>2</th>\n",
              "      <td>15.3</td>\n",
              "      <td>3</td>\n",
              "      <td>0</td>\n",
              "      <td>0</td>\n",
              "    </tr>\n",
              "  </tbody>\n",
              "</table>\n",
              "</div>"
            ],
            "text/plain": [
              "   price  size  color_green  color_red\n",
              "0   10.1     1            1          0\n",
              "1   13.5     2            0          1\n",
              "2   15.3     3            0          0"
            ]
          },
          "metadata": {},
          "execution_count": 21
        }
      ]
    },
    {
      "cell_type": "markdown",
      "metadata": {
        "id": "OiEZoA8iEFKy"
      },
      "source": [
        "# Transforming categorical features to numeric features - Approach 2"
      ]
    },
    {
      "cell_type": "markdown",
      "metadata": {
        "id": "Z5dc4qGXEFKy"
      },
      "source": [
        "When your data comes as a list of dictionaries, Scikit-Learn’s DictVector\n",
        "izer will do this for you:"
      ]
    },
    {
      "cell_type": "code",
      "metadata": {
        "id": "mcmWNgeeEFKy"
      },
      "source": [
        "data = [\n",
        "{'price': 850000, 'rooms': 4, 'neighborhood': 'Queen Anne'},\n",
        "{'price': 700000, 'rooms': 3, 'neighborhood': 'Fremont'},\n",
        "{'price': 650000, 'rooms': 3, 'neighborhood': 'Wallingford'},\n",
        "{'price': 600000, 'rooms': 2, 'neighborhood': 'Fremont'}\n",
        "]"
      ],
      "execution_count": null,
      "outputs": []
    },
    {
      "cell_type": "code",
      "metadata": {
        "id": "TXYdm1qFEFKz",
        "colab": {
          "base_uri": "https://localhost:8080/"
        },
        "outputId": "0d0c14ab-4601-4ca3-a9a4-2af3eab77919"
      },
      "source": [
        "# Transforms lists of feature-value mappings to vectors.\n",
        "\n",
        "from sklearn.feature_extraction import DictVectorizer\n",
        "\n",
        "vec = DictVectorizer(sparse=False, dtype=int)\n",
        "vec.fit_transform(data)"
      ],
      "execution_count": null,
      "outputs": [
        {
          "output_type": "execute_result",
          "data": {
            "text/plain": [
              "array([[     0,      1,      0, 850000,      4],\n",
              "       [     1,      0,      0, 700000,      3],\n",
              "       [     0,      0,      1, 650000,      3],\n",
              "       [     1,      0,      0, 600000,      2]])"
            ]
          },
          "metadata": {},
          "execution_count": 23
        }
      ]
    },
    {
      "cell_type": "markdown",
      "metadata": {
        "id": "14XgyEtyEFK0"
      },
      "source": [
        "To see the meaning of each column, you can inspect the feature names:"
      ]
    },
    {
      "cell_type": "code",
      "metadata": {
        "id": "x5JII7ZHEFK0",
        "colab": {
          "base_uri": "https://localhost:8080/"
        },
        "outputId": "061d6804-5cac-4b52-b21a-0fc7d967ab0b"
      },
      "source": [
        "vec.get_feature_names()"
      ],
      "execution_count": null,
      "outputs": [
        {
          "output_type": "execute_result",
          "data": {
            "text/plain": [
              "['neighborhood=Fremont',\n",
              " 'neighborhood=Queen Anne',\n",
              " 'neighborhood=Wallingford',\n",
              " 'price',\n",
              " 'rooms']"
            ]
          },
          "metadata": {},
          "execution_count": 24
        }
      ]
    },
    {
      "cell_type": "markdown",
      "metadata": {
        "id": "0W9NxIT9EFK1"
      },
      "source": [
        "There is one clear disadvantage of this approach: if your category has many possible\n",
        "values, this can greatly increase the size of your dataset. However, because the encoded\n",
        "data contains mostly zeros, a sparse output can be a very efficient solution:"
      ]
    },
    {
      "cell_type": "code",
      "metadata": {
        "id": "ar9xLT5BEFK1",
        "colab": {
          "base_uri": "https://localhost:8080/"
        },
        "outputId": "44d7ab9e-5f3e-4eff-f00d-91f270357bdd"
      },
      "source": [
        "vec = DictVectorizer(sparse=True, dtype=int)\n",
        "vec.fit_transform(data)"
      ],
      "execution_count": null,
      "outputs": [
        {
          "output_type": "execute_result",
          "data": {
            "text/plain": [
              "<4x5 sparse matrix of type '<class 'numpy.int64'>'\n",
              "\twith 12 stored elements in Compressed Sparse Row format>"
            ]
          },
          "metadata": {},
          "execution_count": 25
        }
      ]
    },
    {
      "cell_type": "markdown",
      "metadata": {
        "id": "y51uRxJoEFK2"
      },
      "source": [
        "Many (though not yet all) of the Scikit-Learn estimators accept such sparse inputs\n",
        "when fitting and evaluating models. sklearn.preprocessing.OneHotEncoder and\n",
        "sklearn.feature_extraction.FeatureHasher"
      ]
    },
    {
      "cell_type": "markdown",
      "metadata": {
        "id": "9goHs8SxEFK2"
      },
      "source": [
        "# Selecting meaningful features"
      ]
    },
    {
      "cell_type": "markdown",
      "metadata": {
        "id": "7PUvcu9ZEFK3"
      },
      "source": [
        "If we notice that a model performs much better on a training dataset than on the test dataset, this observation is strong indicator for **overfitting**. A reson for overfitting is that our model is too complex for the given training data and commmon solutions to reduce the generalization error are listed as follows:\n",
        "\n",
        "- Collect more training data\n",
        "- Introduced a penalty for complexity via regularization\n",
        "- Choose a simpler model with fewer parameters"
      ]
    },
    {
      "cell_type": "code",
      "metadata": {
        "id": "B_Z9b5a-EFK3",
        "colab": {
          "base_uri": "https://localhost:8080/",
          "height": 238
        },
        "outputId": "9dc1055d-6e1e-4f36-99fa-782461d2a8c3"
      },
      "source": [
        "import numpy as np\n",
        "\n",
        "df_wine = pd.read_csv('https://archive.ics.uci.edu/'\n",
        "                      'ml/machine-learning-databases/wine/wine.data',\n",
        "                      header=None)\n",
        "\n",
        "df_wine.columns = ['Class label', 'Alcohol', 'Malic acid', 'Ash',\n",
        "                   'Alcalinity of ash', 'Magnesium', 'Total phenols',\n",
        "                   'Flavanoids', 'Nonflavanoid phenols', 'Proanthocyanins',\n",
        "                   'Color intensity', 'Hue', 'OD280/OD315 of diluted wines',\n",
        "                   'Proline']\n",
        "\n",
        "print('Class labels', np.unique(df_wine['Class label']))\n",
        "df_wine.head()"
      ],
      "execution_count": null,
      "outputs": [
        {
          "output_type": "stream",
          "name": "stdout",
          "text": [
            "Class labels [1 2 3]\n"
          ]
        },
        {
          "output_type": "execute_result",
          "data": {
            "text/html": [
              "<div>\n",
              "<style scoped>\n",
              "    .dataframe tbody tr th:only-of-type {\n",
              "        vertical-align: middle;\n",
              "    }\n",
              "\n",
              "    .dataframe tbody tr th {\n",
              "        vertical-align: top;\n",
              "    }\n",
              "\n",
              "    .dataframe thead th {\n",
              "        text-align: right;\n",
              "    }\n",
              "</style>\n",
              "<table border=\"1\" class=\"dataframe\">\n",
              "  <thead>\n",
              "    <tr style=\"text-align: right;\">\n",
              "      <th></th>\n",
              "      <th>Class label</th>\n",
              "      <th>Alcohol</th>\n",
              "      <th>Malic acid</th>\n",
              "      <th>Ash</th>\n",
              "      <th>Alcalinity of ash</th>\n",
              "      <th>Magnesium</th>\n",
              "      <th>Total phenols</th>\n",
              "      <th>Flavanoids</th>\n",
              "      <th>Nonflavanoid phenols</th>\n",
              "      <th>Proanthocyanins</th>\n",
              "      <th>Color intensity</th>\n",
              "      <th>Hue</th>\n",
              "      <th>OD280/OD315 of diluted wines</th>\n",
              "      <th>Proline</th>\n",
              "    </tr>\n",
              "  </thead>\n",
              "  <tbody>\n",
              "    <tr>\n",
              "      <th>0</th>\n",
              "      <td>1</td>\n",
              "      <td>14.23</td>\n",
              "      <td>1.71</td>\n",
              "      <td>2.43</td>\n",
              "      <td>15.6</td>\n",
              "      <td>127</td>\n",
              "      <td>2.80</td>\n",
              "      <td>3.06</td>\n",
              "      <td>0.28</td>\n",
              "      <td>2.29</td>\n",
              "      <td>5.64</td>\n",
              "      <td>1.04</td>\n",
              "      <td>3.92</td>\n",
              "      <td>1065</td>\n",
              "    </tr>\n",
              "    <tr>\n",
              "      <th>1</th>\n",
              "      <td>1</td>\n",
              "      <td>13.20</td>\n",
              "      <td>1.78</td>\n",
              "      <td>2.14</td>\n",
              "      <td>11.2</td>\n",
              "      <td>100</td>\n",
              "      <td>2.65</td>\n",
              "      <td>2.76</td>\n",
              "      <td>0.26</td>\n",
              "      <td>1.28</td>\n",
              "      <td>4.38</td>\n",
              "      <td>1.05</td>\n",
              "      <td>3.40</td>\n",
              "      <td>1050</td>\n",
              "    </tr>\n",
              "    <tr>\n",
              "      <th>2</th>\n",
              "      <td>1</td>\n",
              "      <td>13.16</td>\n",
              "      <td>2.36</td>\n",
              "      <td>2.67</td>\n",
              "      <td>18.6</td>\n",
              "      <td>101</td>\n",
              "      <td>2.80</td>\n",
              "      <td>3.24</td>\n",
              "      <td>0.30</td>\n",
              "      <td>2.81</td>\n",
              "      <td>5.68</td>\n",
              "      <td>1.03</td>\n",
              "      <td>3.17</td>\n",
              "      <td>1185</td>\n",
              "    </tr>\n",
              "    <tr>\n",
              "      <th>3</th>\n",
              "      <td>1</td>\n",
              "      <td>14.37</td>\n",
              "      <td>1.95</td>\n",
              "      <td>2.50</td>\n",
              "      <td>16.8</td>\n",
              "      <td>113</td>\n",
              "      <td>3.85</td>\n",
              "      <td>3.49</td>\n",
              "      <td>0.24</td>\n",
              "      <td>2.18</td>\n",
              "      <td>7.80</td>\n",
              "      <td>0.86</td>\n",
              "      <td>3.45</td>\n",
              "      <td>1480</td>\n",
              "    </tr>\n",
              "    <tr>\n",
              "      <th>4</th>\n",
              "      <td>1</td>\n",
              "      <td>13.24</td>\n",
              "      <td>2.59</td>\n",
              "      <td>2.87</td>\n",
              "      <td>21.0</td>\n",
              "      <td>118</td>\n",
              "      <td>2.80</td>\n",
              "      <td>2.69</td>\n",
              "      <td>0.39</td>\n",
              "      <td>1.82</td>\n",
              "      <td>4.32</td>\n",
              "      <td>1.04</td>\n",
              "      <td>2.93</td>\n",
              "      <td>735</td>\n",
              "    </tr>\n",
              "  </tbody>\n",
              "</table>\n",
              "</div>"
            ],
            "text/plain": [
              "   Class label  Alcohol  ...  OD280/OD315 of diluted wines  Proline\n",
              "0            1    14.23  ...                          3.92     1065\n",
              "1            1    13.20  ...                          3.40     1050\n",
              "2            1    13.16  ...                          3.17     1185\n",
              "3            1    14.37  ...                          3.45     1480\n",
              "4            1    13.24  ...                          2.93      735\n",
              "\n",
              "[5 rows x 14 columns]"
            ]
          },
          "metadata": {},
          "execution_count": 26
        }
      ]
    },
    {
      "cell_type": "code",
      "metadata": {
        "id": "mVP3yeECEFK4"
      },
      "source": [
        "from sklearn.model_selection import train_test_split\n",
        "\n",
        "X, y = df_wine.iloc[:, 1:].values, df_wine.iloc[:, 0].values # Define X and y\n",
        "\n",
        "X_train, X_test, y_train, y_test = train_test_split(X, y, test_size=0.3,\n",
        "                     random_state=0,\n",
        "                     stratify=y)"
      ],
      "execution_count": null,
      "outputs": []
    },
    {
      "cell_type": "markdown",
      "metadata": {
        "id": "9y9hG0WoEFK5"
      },
      "source": [
        "## L1-based feature selection"
      ]
    },
    {
      "cell_type": "code",
      "metadata": {
        "id": "dDiD4b-1EFK5",
        "colab": {
          "base_uri": "https://localhost:8080/"
        },
        "outputId": "d2ec3fac-2c9f-4c78-e947-b5ae2b1b2555"
      },
      "source": [
        "from sklearn.linear_model import LogisticRegression\n",
        "LogisticRegression(penalty='l1')"
      ],
      "execution_count": null,
      "outputs": [
        {
          "output_type": "execute_result",
          "data": {
            "text/plain": [
              "LogisticRegression(C=1.0, class_weight=None, dual=False, fit_intercept=True,\n",
              "                   intercept_scaling=1, l1_ratio=None, max_iter=100,\n",
              "                   multi_class='auto', n_jobs=None, penalty='l1',\n",
              "                   random_state=None, solver='lbfgs', tol=0.0001, verbose=0,\n",
              "                   warm_start=False)"
            ]
          },
          "metadata": {},
          "execution_count": 28
        }
      ]
    },
    {
      "cell_type": "code",
      "metadata": {
        "id": "ZgqrB_ATEFK6",
        "colab": {
          "base_uri": "https://localhost:8080/"
        },
        "outputId": "9e86083b-72f6-4785-c06f-a9de6ed6f7a7"
      },
      "source": [
        "from sklearn.linear_model import LogisticRegression\n",
        "\n",
        "lr = LogisticRegression(solver='liblinear', multi_class='ovr', penalty='l1', C=1.0)\n",
        "lr.fit(X_train, y_train)\n",
        "print('Training accuracy:', lr.score(X_train, y_train))\n",
        "print('Test accuracy:', lr.score(X_test, y_test))"
      ],
      "execution_count": null,
      "outputs": [
        {
          "output_type": "stream",
          "name": "stdout",
          "text": [
            "Training accuracy: 0.9758064516129032\n",
            "Test accuracy: 0.9444444444444444\n"
          ]
        }
      ]
    },
    {
      "cell_type": "code",
      "metadata": {
        "id": "DzoPPkmoEFK6",
        "colab": {
          "base_uri": "https://localhost:8080/"
        },
        "outputId": "ffbd4133-f5c8-4c6b-ffa6-9fa256161561"
      },
      "source": [
        "lr.coef_"
      ],
      "execution_count": null,
      "outputs": [
        {
          "output_type": "execute_result",
          "data": {
            "text/plain": [
              "array([[-5.93778733e-01,  5.72481509e-01,  0.00000000e+00,\n",
              "        -4.76203835e-01, -4.77000996e-03,  0.00000000e+00,\n",
              "         1.78950532e+00,  0.00000000e+00, -1.08344174e-01,\n",
              "         0.00000000e+00,  0.00000000e+00,  0.00000000e+00,\n",
              "         1.49397146e-02],\n",
              "       [ 1.06392592e+00, -1.43080691e+00,  0.00000000e+00,\n",
              "         2.35521307e-01, -1.44683772e-02,  6.16568494e-01,\n",
              "         3.99845611e-01,  0.00000000e+00,  1.22590586e+00,\n",
              "        -1.70750815e+00,  0.00000000e+00,  0.00000000e+00,\n",
              "        -1.54705510e-02],\n",
              "       [ 0.00000000e+00,  2.37037805e-01,  0.00000000e+00,\n",
              "         2.91810675e-02,  3.85742257e-03,  0.00000000e+00,\n",
              "        -3.74452498e+00,  0.00000000e+00,  0.00000000e+00,\n",
              "         7.77771654e-01,  0.00000000e+00, -1.02399995e+00,\n",
              "         1.96910772e-03]])"
            ]
          },
          "metadata": {},
          "execution_count": 30
        }
      ]
    },
    {
      "cell_type": "code",
      "metadata": {
        "id": "ESE9LaM3EFK7",
        "colab": {
          "base_uri": "https://localhost:8080/"
        },
        "outputId": "ee823bfe-191d-4d36-e30c-7972e79a3ccf"
      },
      "source": [
        "lr.coef_[lr.coef_!=0].shape"
      ],
      "execution_count": null,
      "outputs": [
        {
          "output_type": "execute_result",
          "data": {
            "text/plain": [
              "(23,)"
            ]
          },
          "metadata": {},
          "execution_count": 31
        }
      ]
    },
    {
      "cell_type": "code",
      "metadata": {
        "id": "ha82sm4fEFK8",
        "colab": {
          "base_uri": "https://localhost:8080/"
        },
        "outputId": "60ae1896-abcd-4482-a58e-9f4b89a9111d"
      },
      "source": [
        "lr.intercept_"
      ],
      "execution_count": null,
      "outputs": [
        {
          "output_type": "execute_result",
          "data": {
            "text/plain": [
              "array([0., 0., 0.])"
            ]
          },
          "metadata": {},
          "execution_count": 32
        }
      ]
    },
    {
      "cell_type": "markdown",
      "metadata": {
        "id": "J7096qjQEFK9"
      },
      "source": [
        "We notice that the weight vectors are sparse, which means that they only have a few non-zero entries. As a result of L1 regularization, which serves as a method for feature selection, we just trained a model that is robust to the potentially irrelevant features of the dataset."
      ]
    },
    {
      "cell_type": "markdown",
      "metadata": {
        "id": "uBBwS_c3EFK9"
      },
      "source": [
        "Lastly, let's plot the regularization path, which is the weight coefficients of the different features for different regularization strengths:"
      ]
    },
    {
      "cell_type": "code",
      "metadata": {
        "id": "76hAfW5eEFK9",
        "colab": {
          "base_uri": "https://localhost:8080/",
          "height": 285
        },
        "outputId": "a98db842-d5ba-4c6d-b953-397a8649e0cc"
      },
      "source": [
        "import matplotlib.pyplot as plt\n",
        "\n",
        "fig = plt.figure()\n",
        "ax = plt.subplot(111)\n",
        "\n",
        "colors = ['blue', 'green', 'red', 'cyan',\n",
        "          'magenta', 'yellow', 'black',\n",
        "          'pink', 'lightgreen', 'lightblue',\n",
        "          'gray', 'indigo', 'orange']\n",
        "\n",
        "weights, params = [], []\n",
        "for c in np.arange(-4., 6.):\n",
        "    lr = LogisticRegression(solver='liblinear', multi_class='ovr', penalty='l1', C=10.**c, random_state=0)\n",
        "    lr.fit(X_train, y_train)\n",
        "    weights.append(lr.coef_[1])\n",
        "    params.append(10**c)\n",
        "\n",
        "weights = np.array(weights)\n",
        "\n",
        "for column, color in zip(range(weights.shape[1]), colors):\n",
        "    plt.plot(params, weights[:, column],\n",
        "             label=df_wine.columns[column + 1],\n",
        "             color=color)\n",
        "plt.axhline(0, color='black', linestyle='--', linewidth=3)\n",
        "plt.xlim([10**(-5), 10**5])\n",
        "plt.ylabel('weight coefficient')\n",
        "plt.xlabel('C')\n",
        "plt.xscale('log')\n",
        "plt.legend(loc='upper left')\n",
        "ax.legend(loc='upper center',\n",
        "          bbox_to_anchor=(1.38, 1.03),\n",
        "          ncol=1, fancybox=True)\n",
        "#plt.savefig('L1_featureselection.png', dpi=300,\n",
        "#            bbox_inches='tight', pad_inches=0.2)\n",
        "plt.show()"
      ],
      "execution_count": null,
      "outputs": [
        {
          "output_type": "display_data",
          "data": {
            "image/png": "[encoded data removed]",
            "text/plain": [
              "<Figure size 432x288 with 1 Axes>"
            ]
          },
          "metadata": {
            "needs_background": "light"
          }
        }
      ]
    },
    {
      "cell_type": "markdown",
      "metadata": {
        "id": "-judwk1fEFK-"
      },
      "source": [
        "## Sequential feature selection algorithms"
      ]
    },
    {
      "cell_type": "markdown",
      "metadata": {
        "id": "Y7gdXZOKEFK-"
      },
      "source": [
        "An alternative way to reduce the complexity of the model and avoid overfitting is **dimensionality reduction** via feature selection, which is especially useful for unregularized models. Using feature selection, we select a subset of the original features. We will now look at a classic family of feature selection algowithms."
      ]
    },
    {
      "cell_type": "markdown",
      "metadata": {
        "id": "XlHsZehPEFK-"
      },
      "source": [
        "Sequential feature selection algorithms are a family of greedy search algorithms that are used to reduce an initial *d-dimensional* feature space to a *k-dimensional* feature subspace where k < d. The motivation behind feature selection algorithms is to automatically selecta subset of features that are most relevant to the problem to improve computational efficiency or reduce the generalization error of the model by removing irrelevant features or noise, which can be useful for algorithms that don't support regularization.\n",
        "\n",
        "A classical geature selection algorithm is **Sequential Backward Elimination**, which aims to reduce the dimensionality of the initial feature subspace with a minimum decay in performance of the classifier to improve uupon computational efficiency. In certain cases, SBS can even improve the predictive power of the model if a model suffers from overfitting."
      ]
    },
    {
      "cell_type": "markdown",
      "metadata": {
        "id": "ZNM89JTeEFK-"
      },
      "source": [
        "The idea behind the SBE algorithm is quite simple: SBE sequentially removes features from the full feature subset until the new feature subspace contains the desired number of features. In order to determine which feature is to be reomved at each stage, we need to define the criterion function $J$ that we want to minimize. The criterion calculated by the criterion function can simply be the difference in performance of the classifier after and before the removal of a particular feature. Then the feature to be removed at each stage can be defined as the feature that maximizes this criterion; or, in more intuitive terms, at each stage we eliminate the feature that causes the least performance loss after removal."
      ]
    },
    {
      "cell_type": "code",
      "metadata": {
        "id": "9wpVno7vEFK_"
      },
      "source": [
        "from sklearn.base import clone\n",
        "from itertools import combinations\n",
        "import numpy as np\n",
        "from sklearn.metrics import accuracy_score\n",
        "from sklearn.model_selection import train_test_split\n",
        "\n",
        "\n",
        "class SBS():\n",
        "    def __init__(self, estimator, k_features, scoring=accuracy_score,\n",
        "                 test_size=0.25, random_state=1):\n",
        "        self.scoring = scoring\n",
        "        self.estimator = clone(estimator)\n",
        "        self.k_features = k_features\n",
        "        self.test_size = test_size\n",
        "        self.random_state = random_state\n",
        "\n",
        "    def fit(self, X, y):\n",
        "\n",
        "        X_train, X_test, y_train, y_test = \\\n",
        "            train_test_split(X, y, test_size=self.test_size,\n",
        "                             random_state=self.random_state)\n",
        "\n",
        "        dim = X_train.shape[1]\n",
        "        self.indices_ = tuple(range(dim))\n",
        "        self.subsets_ = [self.indices_]\n",
        "        score = self._calc_score(X_train, y_train,\n",
        "                                 X_test, y_test, self.indices_)\n",
        "        self.scores_ = [score]\n",
        "\n",
        "        while dim > self.k_features:\n",
        "            scores = []\n",
        "            subsets = []\n",
        "\n",
        "            for p in combinations(self.indices_, r=dim - 1):\n",
        "                score = self._calc_score(X_train, y_train,\n",
        "                                         X_test, y_test, p)\n",
        "                scores.append(score)\n",
        "                subsets.append(p)\n",
        "\n",
        "            best = np.argmax(scores)\n",
        "            self.indices_ = subsets[best]\n",
        "            self.subsets_.append(self.indices_)\n",
        "            dim -= 1\n",
        "\n",
        "            self.scores_.append(scores[best])\n",
        "        self.k_score_ = self.scores_[-1]\n",
        "\n",
        "        return self\n",
        "\n",
        "    def transform(self, X):\n",
        "        return X[:, self.indices_]\n",
        "\n",
        "    def _calc_score(self, X_train, y_train, X_test, y_test, indices):\n",
        "        self.estimator.fit(X_train[:, indices], y_train)\n",
        "        y_pred = self.estimator.predict(X_test[:, indices])\n",
        "        score = self.scoring(y_test, y_pred)\n",
        "        return score"
      ],
      "execution_count": null,
      "outputs": []
    },
    {
      "cell_type": "code",
      "metadata": {
        "id": "Ot0QZzH5EFK_",
        "colab": {
          "base_uri": "https://localhost:8080/",
          "height": 297
        },
        "outputId": "958f3b3e-0def-411b-b3f9-4eb697729c38"
      },
      "source": [
        "import matplotlib.pyplot as plt\n",
        "from sklearn.neighbors import KNeighborsClassifier\n",
        "from sklearn.preprocessing import StandardScaler\n",
        "\n",
        "stdsc = StandardScaler()\n",
        "X_train_std = stdsc.fit_transform(X_train)\n",
        "X_test_std = stdsc.transform(X_test)\n",
        "\n",
        "knn = KNeighborsClassifier(n_neighbors=5)\n",
        "\n",
        "# selecting features\n",
        "sbs = SBS(knn, k_features=1)\n",
        "sbs.fit(X_train_std, y_train)\n",
        "\n",
        "# plotting performance of feature subsets\n",
        "k_feat = [len(k) for k in sbs.subsets_]\n",
        "\n",
        "plt.plot(k_feat, sbs.scores_, marker='o')\n",
        "plt.ylim([0.7, 1.02])\n",
        "plt.ylabel('Accuracy')\n",
        "plt.xlabel('Number of features')\n",
        "plt.grid()\n",
        "plt.tight_layout()\n",
        "# plt.savefig('feature_selection.png', dpi=300)\n",
        "plt.show()"
      ],
      "execution_count": null,
      "outputs": [
        {
          "output_type": "display_data",
          "data": {
            "image/png": "[encoded data removed]",
            "text/plain": [
              "<Figure size 432x288 with 1 Axes>"
            ]
          },
          "metadata": {
            "needs_background": "light"
          }
        }
      ]
    },
    {
      "cell_type": "code",
      "metadata": {
        "id": "pN5zx-d9EFLA",
        "colab": {
          "base_uri": "https://localhost:8080/"
        },
        "outputId": "181bb4e5-56cc-4bad-b6ba-67ff6305790a"
      },
      "source": [
        "k3 = list(sbs.subsets_[10]) # features selected at the 10th run of feature elimination.\n",
        "print(df_wine.columns[1:][k3])"
      ],
      "execution_count": null,
      "outputs": [
        {
          "output_type": "stream",
          "name": "stdout",
          "text": [
            "Index(['Alcohol', 'Malic acid', 'OD280/OD315 of diluted wines'], dtype='object')\n"
          ]
        }
      ]
    },
    {
      "cell_type": "code",
      "metadata": {
        "id": "OPlwqG-tEFLB",
        "colab": {
          "base_uri": "https://localhost:8080/"
        },
        "outputId": "f888ba5f-c7a6-44f5-f321-cfb6f92f8d5e"
      },
      "source": [
        "k4 = list(sbs.subsets_[9]) # features selected at the 9th run of feature elimination.\n",
        "print(df_wine.columns[1:][k4])"
      ],
      "execution_count": null,
      "outputs": [
        {
          "output_type": "stream",
          "name": "stdout",
          "text": [
            "Index(['Alcohol', 'Malic acid', 'Ash', 'OD280/OD315 of diluted wines'], dtype='object')\n"
          ]
        }
      ]
    },
    {
      "cell_type": "code",
      "metadata": {
        "id": "6-REGDFHEFLC",
        "colab": {
          "base_uri": "https://localhost:8080/"
        },
        "outputId": "bedd2560-f7cd-46ef-ea5e-1521b3c98605"
      },
      "source": [
        "knn.fit(X_train_std, y_train)\n",
        "print('Training accuracy:', knn.score(X_train_std, y_train))\n",
        "print('Test accuracy:', knn.score(X_test_std, y_test))"
      ],
      "execution_count": null,
      "outputs": [
        {
          "output_type": "stream",
          "name": "stdout",
          "text": [
            "Training accuracy: 0.967741935483871\n",
            "Test accuracy: 0.9629629629629629\n"
          ]
        }
      ]
    },
    {
      "cell_type": "code",
      "metadata": {
        "id": "I8Fp7BJREFLD",
        "colab": {
          "base_uri": "https://localhost:8080/"
        },
        "outputId": "6a90350c-34c6-40bb-a293-92405232a35a"
      },
      "source": [
        "knn.fit(X_train_std[:, k3], y_train)\n",
        "print('Training accuracy:', knn.score(X_train_std[:, k3], y_train))\n",
        "print('Test accuracy:', knn.score(X_test_std[:, k3], y_test))"
      ],
      "execution_count": null,
      "outputs": [
        {
          "output_type": "stream",
          "name": "stdout",
          "text": [
            "Training accuracy: 0.9516129032258065\n",
            "Test accuracy: 0.9259259259259259\n"
          ]
        }
      ]
    },
    {
      "cell_type": "markdown",
      "metadata": {
        "id": "KNIhvf18EFLE"
      },
      "source": [
        "## Recursive feature elimination for estimators that assign weights"
      ]
    },
    {
      "cell_type": "markdown",
      "metadata": {
        "id": "mpZBeAacEFLE"
      },
      "source": [
        "Given an external estimator that assigns weights to features (e.g., the coefficients of a linear model), recursive feature elimination (RFE) is to select features by recursively considering smaller and smaller sets of features. First, the estimator is trained on the initial set of features and the importance of each feature is obtained either through a coef_ attribute or through a feature_importances_ attribute. Then, the least important features are pruned from current set of features.That procedure is recursively repeated on the pruned set until the desired number of features to select is eventually reached."
      ]
    },
    {
      "cell_type": "code",
      "metadata": {
        "id": "SSF5phX0EFLE",
        "colab": {
          "base_uri": "https://localhost:8080/"
        },
        "outputId": "6f1101d4-3303-4726-c00e-64dba48b1c04"
      },
      "source": [
        "from sklearn.feature_selection import RFE\n",
        "from sklearn.linear_model import LinearRegression\n",
        "from sklearn.datasets import load_boston\n",
        "\n",
        "boston = load_boston()\n",
        "X = boston[\"data\"]\n",
        "Y = boston[\"target\"]\n",
        "names = boston[\"feature_names\"]\n",
        "\n",
        "#use linear regression as the model\n",
        "lr = LinearRegression()\n",
        "#rank all features, i.e continue the elimination until the last one\n",
        "rfe = RFE(lr, n_features_to_select=1)\n",
        "rfe.fit(X,Y)\n",
        "\n",
        "print(\"Features sorted by their rank:\")\n",
        "print(sorted(zip(map(lambda x: round(x, 4), rfe.ranking_), names)))\n"
      ],
      "execution_count": null,
      "outputs": [
        {
          "output_type": "stream",
          "name": "stdout",
          "text": [
            "Features sorted by their rank:\n",
            "[(1, 'NOX'), (2, 'RM'), (3, 'CHAS'), (4, 'PTRATIO'), (5, 'DIS'), (6, 'LSTAT'), (7, 'RAD'), (8, 'CRIM'), (9, 'INDUS'), (10, 'ZN'), (11, 'TAX'), (12, 'B'), (13, 'AGE')]\n"
          ]
        }
      ]
    },
    {
      "cell_type": "markdown",
      "metadata": {
        "id": "bFrHbRtLEFLF"
      },
      "source": [
        "# Handling text features"
      ]
    },
    {
      "cell_type": "markdown",
      "metadata": {
        "id": "u4LQITnsEFLF"
      },
      "source": [
        "Another common need in feature engineering is to convert text to a set of representative\n",
        "numerical values. For example, most automatic mining of social media data relies\n",
        "on some form of encoding the text as numbers. One of the simplest methods of\n",
        "encoding data is by word counts: you take each snippet of text, count the occurrences\n",
        "of each word within it, and put the results in a table.\n",
        "For example, consider the following set of three phrases:"
      ]
    },
    {
      "cell_type": "code",
      "metadata": {
        "id": "lUUb8ndQEFLF"
      },
      "source": [
        "sample = ['problem of evil',\n",
        "'evil queen',\n",
        "'horizon problem']"
      ],
      "execution_count": null,
      "outputs": []
    },
    {
      "cell_type": "markdown",
      "metadata": {
        "id": "FlvyMcZoEFLG"
      },
      "source": [
        "For a vectorization of this data based on word count, we could construct a column\n",
        "representing the word “problem,” the word “evil,” the word “horizon,” and so on.\n",
        "While doing this by hand would be possible, we can avoid the tedium by using Scikit-\n",
        "Learn’s CountVectorizer:"
      ]
    },
    {
      "cell_type": "code",
      "metadata": {
        "id": "DlRKPildEFLG",
        "colab": {
          "base_uri": "https://localhost:8080/"
        },
        "outputId": "ba8aa114-8bcb-4bf9-cdf3-8af060e5f0f8"
      },
      "source": [
        "from sklearn.feature_extraction.text import CountVectorizer\n",
        "vec = CountVectorizer()\n",
        "X = vec.fit_transform(sample)\n",
        "print(X)"
      ],
      "execution_count": null,
      "outputs": [
        {
          "output_type": "stream",
          "name": "stdout",
          "text": [
            "  (0, 3)\t1\n",
            "  (0, 2)\t1\n",
            "  (0, 0)\t1\n",
            "  (1, 0)\t1\n",
            "  (1, 4)\t1\n",
            "  (2, 3)\t1\n",
            "  (2, 1)\t1\n"
          ]
        }
      ]
    },
    {
      "cell_type": "markdown",
      "metadata": {
        "id": "mVbj1KBzEFLH"
      },
      "source": [
        "The result is a sparse matrix recording the number of times each word appears; it is\n",
        "easier to inspect if we convert this to a DataFrame with labeled columns:"
      ]
    },
    {
      "cell_type": "code",
      "metadata": {
        "id": "NLIRr8VlEFLH",
        "colab": {
          "base_uri": "https://localhost:8080/",
          "height": 142
        },
        "outputId": "c2a124cf-26e8-45ea-c6ee-a7579d181fac"
      },
      "source": [
        "import pandas as pd\n",
        "pd.DataFrame(X.toarray(), columns=vec.get_feature_names())"
      ],
      "execution_count": null,
      "outputs": [
        {
          "output_type": "execute_result",
          "data": {
            "text/html": [
              "<div>\n",
              "<style scoped>\n",
              "    .dataframe tbody tr th:only-of-type {\n",
              "        vertical-align: middle;\n",
              "    }\n",
              "\n",
              "    .dataframe tbody tr th {\n",
              "        vertical-align: top;\n",
              "    }\n",
              "\n",
              "    .dataframe thead th {\n",
              "        text-align: right;\n",
              "    }\n",
              "</style>\n",
              "<table border=\"1\" class=\"dataframe\">\n",
              "  <thead>\n",
              "    <tr style=\"text-align: right;\">\n",
              "      <th></th>\n",
              "      <th>evil</th>\n",
              "      <th>horizon</th>\n",
              "      <th>of</th>\n",
              "      <th>problem</th>\n",
              "      <th>queen</th>\n",
              "    </tr>\n",
              "  </thead>\n",
              "  <tbody>\n",
              "    <tr>\n",
              "      <th>0</th>\n",
              "      <td>1</td>\n",
              "      <td>0</td>\n",
              "      <td>1</td>\n",
              "      <td>1</td>\n",
              "      <td>0</td>\n",
              "    </tr>\n",
              "    <tr>\n",
              "      <th>1</th>\n",
              "      <td>1</td>\n",
              "      <td>0</td>\n",
              "      <td>0</td>\n",
              "      <td>0</td>\n",
              "      <td>1</td>\n",
              "    </tr>\n",
              "    <tr>\n",
              "      <th>2</th>\n",
              "      <td>0</td>\n",
              "      <td>1</td>\n",
              "      <td>0</td>\n",
              "      <td>1</td>\n",
              "      <td>0</td>\n",
              "    </tr>\n",
              "  </tbody>\n",
              "</table>\n",
              "</div>"
            ],
            "text/plain": [
              "   evil  horizon  of  problem  queen\n",
              "0     1        0   1        1      0\n",
              "1     1        0   0        0      1\n",
              "2     0        1   0        1      0"
            ]
          },
          "metadata": {},
          "execution_count": 43
        }
      ]
    },
    {
      "cell_type": "markdown",
      "metadata": {
        "id": "z028AAz5EFLI"
      },
      "source": [
        "There are some issues with this approach, however: the raw word counts lead to features\n",
        "that put too much weight on words that appear very frequently, and this can be\n",
        "suboptimal in some classification algorithms. One approach to fix this is known as\n",
        "term frequency–inverse document frequency (TF–IDF), which weights the word counts\n",
        "by a measure of how often they appear in the documents. The syntax for computing\n",
        "these features is similar to the previous example:"
      ]
    },
    {
      "cell_type": "code",
      "metadata": {
        "id": "Nu2v8KZLEFLI",
        "colab": {
          "base_uri": "https://localhost:8080/",
          "height": 142
        },
        "outputId": "b7ca2b6e-6565-46ee-afb5-0d988c9a3083"
      },
      "source": [
        "from sklearn.feature_extraction.text import TfidfVectorizer\n",
        "\n",
        "vec = TfidfVectorizer()\n",
        "X = vec.fit_transform(sample)\n",
        "pd.DataFrame(X.toarray(), columns=vec.get_feature_names())"
      ],
      "execution_count": null,
      "outputs": [
        {
          "output_type": "execute_result",
          "data": {
            "text/html": [
              "<div>\n",
              "<style scoped>\n",
              "    .dataframe tbody tr th:only-of-type {\n",
              "        vertical-align: middle;\n",
              "    }\n",
              "\n",
              "    .dataframe tbody tr th {\n",
              "        vertical-align: top;\n",
              "    }\n",
              "\n",
              "    .dataframe thead th {\n",
              "        text-align: right;\n",
              "    }\n",
              "</style>\n",
              "<table border=\"1\" class=\"dataframe\">\n",
              "  <thead>\n",
              "    <tr style=\"text-align: right;\">\n",
              "      <th></th>\n",
              "      <th>evil</th>\n",
              "      <th>horizon</th>\n",
              "      <th>of</th>\n",
              "      <th>problem</th>\n",
              "      <th>queen</th>\n",
              "    </tr>\n",
              "  </thead>\n",
              "  <tbody>\n",
              "    <tr>\n",
              "      <th>0</th>\n",
              "      <td>0.517856</td>\n",
              "      <td>0.000000</td>\n",
              "      <td>0.680919</td>\n",
              "      <td>0.517856</td>\n",
              "      <td>0.000000</td>\n",
              "    </tr>\n",
              "    <tr>\n",
              "      <th>1</th>\n",
              "      <td>0.605349</td>\n",
              "      <td>0.000000</td>\n",
              "      <td>0.000000</td>\n",
              "      <td>0.000000</td>\n",
              "      <td>0.795961</td>\n",
              "    </tr>\n",
              "    <tr>\n",
              "      <th>2</th>\n",
              "      <td>0.000000</td>\n",
              "      <td>0.795961</td>\n",
              "      <td>0.000000</td>\n",
              "      <td>0.605349</td>\n",
              "      <td>0.000000</td>\n",
              "    </tr>\n",
              "  </tbody>\n",
              "</table>\n",
              "</div>"
            ],
            "text/plain": [
              "       evil   horizon        of   problem     queen\n",
              "0  0.517856  0.000000  0.680919  0.517856  0.000000\n",
              "1  0.605349  0.000000  0.000000  0.000000  0.795961\n",
              "2  0.000000  0.795961  0.000000  0.605349  0.000000"
            ]
          },
          "metadata": {},
          "execution_count": 44
        }
      ]
    },
    {
      "cell_type": "code",
      "metadata": {
        "id": "M0CiRq3yEFLJ",
        "colab": {
          "base_uri": "https://localhost:8080/",
          "height": 142
        },
        "outputId": "a4baeb0e-0623-4a9a-e05f-c9c99fcea359"
      },
      "source": [
        "vec = TfidfVectorizer(stop_words='english')\n",
        "X = vec.fit_transform(sample)\n",
        "pd.DataFrame(X.toarray(), columns=vec.get_feature_names())"
      ],
      "execution_count": null,
      "outputs": [
        {
          "output_type": "execute_result",
          "data": {
            "text/html": [
              "<div>\n",
              "<style scoped>\n",
              "    .dataframe tbody tr th:only-of-type {\n",
              "        vertical-align: middle;\n",
              "    }\n",
              "\n",
              "    .dataframe tbody tr th {\n",
              "        vertical-align: top;\n",
              "    }\n",
              "\n",
              "    .dataframe thead th {\n",
              "        text-align: right;\n",
              "    }\n",
              "</style>\n",
              "<table border=\"1\" class=\"dataframe\">\n",
              "  <thead>\n",
              "    <tr style=\"text-align: right;\">\n",
              "      <th></th>\n",
              "      <th>evil</th>\n",
              "      <th>horizon</th>\n",
              "      <th>problem</th>\n",
              "      <th>queen</th>\n",
              "    </tr>\n",
              "  </thead>\n",
              "  <tbody>\n",
              "    <tr>\n",
              "      <th>0</th>\n",
              "      <td>0.707107</td>\n",
              "      <td>0.000000</td>\n",
              "      <td>0.707107</td>\n",
              "      <td>0.000000</td>\n",
              "    </tr>\n",
              "    <tr>\n",
              "      <th>1</th>\n",
              "      <td>0.605349</td>\n",
              "      <td>0.000000</td>\n",
              "      <td>0.000000</td>\n",
              "      <td>0.795961</td>\n",
              "    </tr>\n",
              "    <tr>\n",
              "      <th>2</th>\n",
              "      <td>0.000000</td>\n",
              "      <td>0.795961</td>\n",
              "      <td>0.605349</td>\n",
              "      <td>0.000000</td>\n",
              "    </tr>\n",
              "  </tbody>\n",
              "</table>\n",
              "</div>"
            ],
            "text/plain": [
              "       evil   horizon   problem     queen\n",
              "0  0.707107  0.000000  0.707107  0.000000\n",
              "1  0.605349  0.000000  0.000000  0.795961\n",
              "2  0.000000  0.795961  0.605349  0.000000"
            ]
          },
          "metadata": {},
          "execution_count": 45
        }
      ]
    }
  ]
}
