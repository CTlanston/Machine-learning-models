{
  "nbformat": 4,
  "nbformat_minor": 0,
  "metadata": {
    "kernelspec": {
      "display_name": "Python 3",
      "name": "python3"
    },
    "language_info": {
      "name": "python"
    },
    "toc": {
      "base_numbering": 1,
      "nav_menu": {},
      "number_sections": true,
      "sideBar": true,
      "skip_h1_title": false,
      "title_cell": "Table of Contents",
      "title_sidebar": "Contents",
      "toc_cell": false,
      "toc_position": {},
      "toc_section_display": true,
      "toc_window_display": false
    },
    "colab": {
      "provenance": []
    },
    "gpuClass": "standard"
  },
  "cells": [
    {
      "cell_type": "markdown",
      "metadata": {
        "id": "nP_0JQ7CV2x1"
      },
      "source": [
        "# Model Evaluation and Hyperparameter Tuning"
      ]
    },
    {
      "cell_type": "markdown",
      "metadata": {
        "id": "nvG7tbDNV2x2"
      },
      "source": [
        "# Improving algorithms with learning and fitting curves"
      ]
    },
    {
      "cell_type": "markdown",
      "metadata": {
        "id": "LUjgDq_fV2x3"
      },
      "source": [
        "We have learnt two simple yet powerful diagnostic tools that can help us to improve the performance of a learning algorithm: learning curves and fitting curves. We will discuss how we can use learning curves to diagnose if a learning algorithm would benefit from additional data points. Furthermore, we will take a look at fitting curves that help us address the common issues of a learning algorithm."
      ]
    },
    {
      "cell_type": "markdown",
      "metadata": {
        "id": "CU5z2vfwV2x4"
      },
      "source": [
        "# Diagnosing problems with learning curves"
      ]
    },
    {
      "cell_type": "markdown",
      "metadata": {
        "id": "zK_IQHOIV2x5"
      },
      "source": [
        "If a model is too complex for a given training set the model tends to overfit the training data and does not generalize well to unseen data. **Common ways to address this problem** is to collect more training samples to reduce the degree of overfitting. However, in practice it can be more expensive or not feasible to collect more data. By plotting the model training and testing accuracies, we can detect whether the colleciton of more data would help to address this problem."
      ]
    },
    {
      "cell_type": "markdown",
      "metadata": {
        "id": "B7p3W9yqV2x5"
      },
      "source": [
        "## Underfitting"
      ]
    },
    {
      "cell_type": "markdown",
      "metadata": {
        "id": "OnKkIz39V2x6"
      },
      "source": [
        "When the learning curve graph shows both low traning and testing/cross-validation accuracy, this indicates that the model underfits the training data. **Common ways to address this problem** is to\n",
        "\n",
        "**(1)** increase the number of parameters of the model, for example, by\n",
        "collecting or constructing additional features (e.g., interaction terms, second order polynomial terms, third order polynomial terms, etc), or\n",
        "\n",
        "**(2)** decrease the degree of regularization in parametric models ( e.g., logistic regression classifiers) if regularization was performed."
      ]
    },
    {
      "cell_type": "markdown",
      "metadata": {
        "id": "KkBCxwjVV2x7"
      },
      "source": [
        "## Overfitting"
      ]
    },
    {
      "cell_type": "markdown",
      "metadata": {
        "id": "v4N4YgekV2x7"
      },
      "source": [
        "When the learning curve graph shows a large gap between the traning and testing/cross-validation accuracy, this indicates that the model overfits the training data. Common ways to address this problem is to\n",
        "\n",
        "**(1)** collect more training data or\n",
        "\n",
        "**(2)** to reduce the complexity of the model, for example, by increasing the regularization paramater; for unregularized models it can also help to\n",
        "\n",
        "**(3)** decrease the number of features via feature selection or feature extraction (i.e., dimensionality reduction). Note that collecting more training data decreases the chances of overfitting. However, it might not always help, for example, when the training data is extremely noisy or the model is already very close to optimal."
      ]
    },
    {
      "cell_type": "markdown",
      "source": [
        "The following code provides a function named plot_learning_curve that visualizes the performance (scores) of a given machine learning model (or estimator) as the number of training examples increases. The visualization is useful for understanding how well a model is learning from the training data and how it performs on unseen data.\n",
        "\n",
        "This visualization helps in identifying if a model is overfitting, underfitting, or generalizing well. If the training score is much higher than the validation score and both are increasing with more data, then the model might be overfitting. If both the scores are low, it might be underfitting. Ideally, both scores should converge to a high value with more training data, indicating good generalization.\n",
        "\n",
        "The code visualizes the learning curve of a model, showing the mean training and test scores, along with the spread (standard deviation) of those scores. The visualization helps in understanding the behavior of a model as it learns from increasing amounts of data.\n",
        "\n",
        "\n",
        "\n",
        "\n"
      ],
      "metadata": {
        "id": "nUPG3Brn131v"
      }
    },
    {
      "cell_type": "code",
      "metadata": {
        "id": "Ul-ybE7KV2x8"
      },
      "source": [
        "############################## Python version compatibility ##############################\n",
        "\n",
        "# To write a Python 2/3 compatible codebase, the first step is to add this line to the top of each module\n",
        "from __future__ import division, print_function, unicode_literals\n",
        "\n",
        "############################## Import Libraries & Modules ################################\n",
        "\n",
        "%matplotlib inline\n",
        "# Import necessary libraries and specify that graphs should be plotted inline.\n",
        "from sklearn.datasets import load_iris # import Iris Data Set\n",
        "from sklearn import linear_model       # the sklearn.linear_model module implements generalized linear models\n",
        "import numpy as np                     # NumPy is the package for scientific computing with Python\n",
        "from sklearn.model_selection import learning_curve # determines cross-validated training and test scores for different training set sizes\n",
        "\n",
        "#################################### Import Dataset #####################################\n",
        "\n",
        "# Load the Iris data set\n",
        "# See the decision tree notebook for a description of this data set\n",
        "iris = load_iris()\n",
        "X = iris.data[:, [2, 3]]            # specify attributes/predictors\n",
        "y = iris.target                     # specify target variable\n",
        "\n",
        "############################## Function for Learning Curves ##############################\n",
        "\n",
        "def plot_learning_curve(estimator,        # data science algorithm\n",
        "                        title,            # title of the plot\n",
        "                        X, y,             # data (features and target variable)\n",
        "                        ylim=None,        # minimum and maximum y values plotted\n",
        "                        cv=None,          # cross validation splits\n",
        "                        n_jobs=1,         # parallell estimation using multiple processors\n",
        "                        train_sizes=np.linspace(.1, 1.0, 5)): #linspace returns evenly spaced numbers over a specified interval (start, stop, num)\n",
        "\n",
        "\n",
        "    \"\"\"\n",
        "    Generate a simple plot of the test and training learning curve.\n",
        "\n",
        "    Parameters\n",
        "    ----------\n",
        "    estimator : This is your machine learning model, an object type that\n",
        "        implements the \"fit\" and \"predict\" methods\n",
        "        An object of that type which is cloned for each validation.\n",
        "\n",
        "    title : string\n",
        "        Title for the resulting plot.\n",
        "\n",
        "    X, y: These are your features and target variables, respectively.\n",
        "\n",
        "        X : array-like, shape (n_samples, n_features)\n",
        "            Training vector, where n_samples is the number of samples and\n",
        "            n_features is the number of features.\n",
        "\n",
        "        y : array-like, shape (n_samples) or (n_samples, n_features), optional\n",
        "            Target relative to X for classification or regression;\n",
        "            None for unsupervised learning.\n",
        "\n",
        "    ylim : tuple, shape (ymin, ymax), optional\n",
        "        Limits for the y-axis of the plot.\n",
        "\n",
        "    cv : int, cross-validation generator or an iterable, optional\n",
        "        Determines the cross-validation splitting strategy.\n",
        "        Possible inputs for cv are:\n",
        "          - None, to use the default 3-fold cross-validation,\n",
        "          - integer, to specify the number of folds.\n",
        "          - An object to be used as a cross-validation generator.\n",
        "          - An iterable yielding train/test splits.\n",
        "\n",
        "        For integer/None inputs, if ``y`` is binary or multiclass,\n",
        "        :class:`StratifiedKFold` used. If the estimator is not a classifier\n",
        "        or if ``y`` is neither binary nor multiclass, :class:`KFold` is used.\n",
        "\n",
        "        Refer :ref:`User Guide <cross_validation>` for the various\n",
        "        cross-validators that can be used here.\n",
        "\n",
        "    n_jobs : integer, optional\n",
        "        The number of CPU cores to use when computing the scores.\n",
        "        1 (default) means using one core, -1 means using all cores.\n",
        "\n",
        "    train_sizes: Array specifying the relative or absolute numbers of\n",
        "                training examples used to generate the learning curve.\n",
        "    \"\"\"\n",
        "\n",
        "    # Initialization of Figure\n",
        "    plt.figure()                    # display figure\n",
        "\n",
        "    # Titles/labels for the plot are set\n",
        "    plt.title(title)                # specify title based on parameter provided as input\n",
        "    if ylim is not None:            # if ylim was specified as an input, make sure the plots use these limits\n",
        "        plt.ylim(*ylim)\n",
        "    plt.xlabel(\"Training examples\") # y label title\n",
        "    plt.ylabel(\"Score\")             # x label title\n",
        "\n",
        "    # Learning Curve Calculation\n",
        "    # This helps to understand how the model's performance varies as more data is used for training.\n",
        "    # Class learning_curve determines cross-validated training and test scores for different training set sizes\n",
        "    # Detailed documentation: https://scikit-learn.org/stable/modules/generated/sklearn.model_selection.learning_curve.html\n",
        "    # train_sizes = numbers of training examples that has been used to generate the learning curve\n",
        "    # train_scores = scores on training sets (array)\n",
        "    # test_scores = scores on test set (array)\n",
        "    train_sizes, train_scores, test_scores = learning_curve(estimator, # data science algorithm\n",
        "                                                            X, y,      # data (features and target variable)\n",
        "                                                            cv=cv,     # cross-validation folds\n",
        "                                                            n_jobs=n_jobs, # number of jobs to run in parallel using multiple processors\n",
        "                                                            train_sizes=train_sizes) # relative or absolute numbers of training examples\n",
        "                                                                                     # that will be used to generate the learning curve\n",
        "\n",
        "    # Score Calculations\n",
        "    # Cross validation statistics for training and testing data (mean and standard deviation)\n",
        "    train_scores_mean = np.mean(train_scores, axis=1) # compute the arithmetic mean along the specified axis.\n",
        "    train_scores_std = np.std(train_scores, axis=1)   # compute the standard deviation along the specified axis.\n",
        "    test_scores_mean = np.mean(test_scores, axis=1)   # compute the arithmetic mean along the specified axis.\n",
        "    test_scores_std = np.std(test_scores, axis=1)     # compute the standard deviation along the specified axis.\n",
        "\n",
        "    # Visualization of Learning Curve\n",
        "    plt.grid()                                        # configure the grid lines in the plot\n",
        "                                                      # adds grid lines to the plot for better visualization and understanding of the data points\n",
        "\n",
        "    # Fill Between Scores to Indicate Standard Deviation\n",
        "    # Fill the area around the line to indicate the size of standard deviations for the training data\n",
        "    # and the test data\n",
        "    # The area filled represents one standard deviation above and below the mean of the training/test scores\n",
        "    plt.fill_between(train_sizes,                            # the x coordinates of the nodes defining the curves\n",
        "                     train_scores_mean - train_scores_std,   # the y coordinates of the nodes defining the first curve\n",
        "                     train_scores_mean + train_scores_std,   # the y coordinates of the nodes defining the second curve\n",
        "                     alpha=0.1,                              # level of transparency in the color fill\n",
        "                     color=\"r\")                              # train data performance indicated with red\n",
        "    plt.fill_between(train_sizes,\n",
        "                     test_scores_mean - test_scores_std,\n",
        "                     test_scores_mean + test_scores_std,\n",
        "                     alpha=0.1,\n",
        "                     color=\"g\")                              # test data performance indicated with green\n",
        "\n",
        "    # Plotting the Mean Scores\n",
        "    # Cross-validation mean scores indicated by dots\n",
        "    # Train data performance indicated with red\n",
        "    plt.plot(train_sizes,                                    # the horizontal coordinates of the data points\n",
        "             train_scores_mean,                              # the vertical coordinates of the data points\n",
        "             'o-',                                           # o- will produce a small circle and a solid line to connect the markers\n",
        "             color=\"r\",                                      # line of red color\n",
        "             label=\"Training score\")                         # specify label title for this plot\n",
        "\n",
        "    # Test data performance indicated with green\n",
        "    plt.plot(train_sizes,\n",
        "             test_scores_mean,\n",
        "             'o-',\n",
        "             color=\"g\",                                      # line of green color\n",
        "             label=\"Cross-validation score\")\n",
        "\n",
        "    plt.legend(loc=\"best\")                      # show legend of the plot at the best location possible\n",
        "                                                # placing it in the \"best\" location based on where matplotlib thinks it will least overlap with other elements\n",
        "    return plt                                  # function that returns the plot as an output"
      ],
      "execution_count": null,
      "outputs": []
    },
    {
      "cell_type": "markdown",
      "source": [
        "The following code is designed to visualize the learning curves of two machine learning models, namely Logistic Regression and k-Nearest Neighbors (kNN)."
      ],
      "metadata": {
        "id": "0tNjPi175HTy"
      }
    },
    {
      "cell_type": "code",
      "metadata": {
        "id": "OurlsxpeV2x_",
        "colab": {
          "base_uri": "https://localhost:8080/",
          "height": 573
        },
        "outputId": "38e3cfb6-ee50-4fa3-8a03-66f0ddf81667"
      },
      "source": [
        "########################### Visualization of Learning Curves ###########################\n",
        "\n",
        "# Determines cross-validated training and test scores for different training set sizes\n",
        "from sklearn.model_selection import learning_curve\n",
        "# Random permutation cross-validator\n",
        "from sklearn.model_selection import ShuffleSplit\n",
        "# Logistic regression classifier class\n",
        "from sklearn.linear_model import LogisticRegression\n",
        "# kNN classifier class\n",
        "from sklearn import neighbors\n",
        "# Each pyplot function makes some change to a figure: e.g., creates a figure, creates a plotting area in a figure,\n",
        "# plots some lines in a plotting area, decorates the plot with labels, etc\n",
        "import matplotlib.pyplot as plt\n",
        "\n",
        "# Defines the title for the learning curve of the Logistic Regression\n",
        "title = \"Learning Curve (Logistic Regression)\"\n",
        "\n",
        "# Initializes the ShuffleSplit cross-validator & an instance of the logistic regression model\n",
        "# Class ShuffleSplit is a random permutation cross-validator\n",
        "cv = ShuffleSplit(n_splits=10,          # number of re-shuffling & splitting iterations\n",
        "                  test_size=0.3,        # represents the proportion of the dataset to include in the test split (float between 0.0 and 1.0)\n",
        "                  random_state=42)      # the seed used by the random number generator\n",
        "estimator = LogisticRegression()        # build multiple LR models as we increase the size of the traning data\n",
        "\n",
        "# Plots the learning curve based on the previously defined function for the logistic regression estimator\n",
        "plot_learning_curve(estimator,      # data science algorithm\n",
        "                    title,          # title of the plot\n",
        "                    X, y,           # data (features and target variable)\n",
        "                    (0.8, 1.01),    # minimum and maximum y values plotted\n",
        "                    cv=cv,          # cross-validation folds (produced above)\n",
        "                    n_jobs=4)       # parallell estimation using multiple processors (ie., 4 cores here)\n",
        "\n",
        "plt.show()                          # display the figure\n",
        "\n",
        "title = \"Learning Curve (kNN)\"\n",
        "\n",
        "# Plots the learning curve based on the previously defined function for the kNN classifier. Uses the\n",
        "# random permutation cross-validator\n",
        "cv = ShuffleSplit(n_splits=10,\n",
        "                  test_size=0.3,\n",
        "                  random_state=42)\n",
        "estimator = neighbors.KNeighborsClassifier()  # build multiple kNN models as we increase the size of the traning data\n",
        "                                              # n_neighbors=5 by default\n",
        "plot_learning_curve(estimator,\n",
        "                    title,\n",
        "                    X, y,\n",
        "                    (0.8, 1.01),              # minimum and maximum y values plotted\n",
        "                    cv=cv,\n",
        "                    n_jobs=4)\n",
        "\n",
        "plt.show()                          #display the figure"
      ],
      "execution_count": null,
      "outputs": [
        {
          "output_type": "display_data",
          "data": {
            "text/plain": [
              "<Figure size 432x288 with 1 Axes>"
            ],
            "image/png": "[encoded data removed]"
          },
          "metadata": {
            "needs_background": "light"
          }
        },
        {
          "output_type": "display_data",
          "data": {
            "text/plain": [
              "<Figure size 432x288 with 1 Axes>"
            ],
            "image/png": "[encoded data removed]"
          },
          "metadata": {
            "needs_background": "light"
          }
        }
      ]
    },
    {
      "cell_type": "markdown",
      "metadata": {
        "id": "FAR_ZzV5V2yD"
      },
      "source": [
        "Via the *train_sizes* parameter in the *learning_curve* function, we can control the partial or relative number of training samples that are used to generate the learning curves. Here, we set *train_sizes* = np.linspace(0.1, 1.0 , 5) to use 5 evenly spaced relative intervals for the training set sizes. By default, the *learning_curve* function uses stratified k-fold cross-validation to calculate cross-validation accuracy, and we set *k=10* via the *cv* paramaeter. Then, we simply calculate the average accuracies from the returned cross-validated training and test scores for the diffferent sizes of the training set, which we plott using matplootlib's plot function. Furthermore, we add this standard deviation of the average accuracies to the plot using the *fill_between* function to indicate the variance of the estimate."
      ]
    },
    {
      "cell_type": "markdown",
      "metadata": {
        "id": "7YrVB15kV2yD"
      },
      "source": [
        "# Addressing overfitting and underfitting with fitting graphs"
      ]
    },
    {
      "cell_type": "markdown",
      "metadata": {
        "id": "fLUM2NNhV2yD"
      },
      "source": [
        "Fitting graphs are another usesful tool for impoving the performance of the model by addressing issues such as overfitting and underfitting. Fitting graphs are related to learning curves, but instead of plotting the training and test accuracies as functions of the sample size, we can vary the values of the model parameters, for example the inverse regularization paramater $C$ in logistic regression."
      ]
    },
    {
      "cell_type": "code",
      "metadata": {
        "id": "dwhsa6TSV2yE",
        "colab": {
          "base_uri": "https://localhost:8080/"
        },
        "outputId": "2e5f8f82-ffc7-40f6-b119-087feaeee9d4"
      },
      "source": [
        "############################## Import Libraries & Modules ################################\n",
        "\n",
        "# Logistic regression classifier class\n",
        "from sklearn.linear_model import LogisticRegression\n",
        "# pandas is a library providing high-performance, easy-to-use data structures and data\n",
        "# analysis tools for the Python programming language\n",
        "import pandas as pd\n",
        "# Evaluate a score by cross-validation\n",
        "from sklearn.model_selection import cross_val_score\n",
        "# Encode labels with value between 0 and n_classes-1\n",
        "from sklearn.preprocessing import LabelEncoder       # this transformer should be used to encode target values, i.e. y, and not the input X\n",
        "                                                     # it will help us transform non-numerical labels to numerical labels\n",
        "from sklearn.model_selection import train_test_split\n",
        "\n",
        "#################################### Import Dataset #####################################\n",
        "\n",
        "df = pd.read_csv('https://archive.ics.uci.edu/ml/'  # read a comma-separated values (csv) file into DataFrame\n",
        "                 'machine-learning-databases'\n",
        "                 '/breast-cancer-wisconsin/wdbc.data',\n",
        "                 header=None)                       # read data from link, No Header\n",
        "\n",
        "X = df.loc[:, 2:].values      # specify attributes/predictors\n",
        "y = df.loc[:, 1].values       # specify target variable\n",
        "le = LabelEncoder()\n",
        "#print(y)                     # see label before transformation\n",
        "y = le.fit_transform(y)       # labels 'M' as 1 and 'B' as 0\n",
        "                              # note: numbering is assigned in alphabetical order\n",
        "#print(y)                     # see label after transformation\n",
        "print(le.classes_)            # show the classes that have been encoded\n",
        "\n",
        "###################################### Classifier ######################################\n",
        "\n",
        "X_train, X_test, y_train, y_test = train_test_split(X,\n",
        "                                                    y,\n",
        "                                                    test_size=0.20,\n",
        "                                                    random_state=1)\n",
        "\n",
        "# Class for Logistic Regression (aka logit) classifier.\n",
        "# Parameter C: Inverse of regularization strength;\n",
        "# C must be a positive float; smaller values specify stronger regularization.\n",
        "clf_lr = LogisticRegression(C=1e4,\n",
        "                            solver='liblinear',\n",
        "                            penalty = 'l2')     # default: ‘l2’ norm\n",
        "\n",
        "############################ Performance w/ Cross Validation ############################\n",
        "\n",
        "# Evaluate performance\n",
        "# Read more about cross_val_score in the following link\n",
        "# http://scikit-learn.org/stable/modules/generated/sklearn.model_selection.cross_val_score.html#sklearn.model_selection.cross_val_score\n",
        "# Possible 'scoring' values http://scikit-learn.org/stable/modules/model_evaluation.html\n",
        "\n",
        "scores=cross_val_score(clf_lr,    # estimator (data science algorithm)\n",
        "                       X=X,       # data (features)\n",
        "                       y=y,       # target variable\n",
        "                       cv=5)      # number of folds in cross-validation\n",
        "print(\"Accuracy: %0.2f (+/- %0.2f)\" % (scores.mean(), scores.std() * 2))\n",
        "print(scores)                                                                 # print accuracy for each iteration of cross-validation\n",
        "\n",
        "scores_f1=cross_val_score(clf_lr, # estimator (data science algorithm)\n",
        "                          X=X,    # data (features)\n",
        "                          y=y,    # target variable\n",
        "                          cv=10,  # number of folds in cross-validation\n",
        "                          scoring='f1_macro') # performance metric\n",
        "print(\"F1-score: %0.2f (+/- %0.2f)\" % (scores_f1.mean(), scores_f1.std() * 2)) # returns an array of scores of the estimator for each run of the cross validation.\n",
        "print(scores_f1)                                                               # prints f1-score for each iteration of cross-validation"
      ],
      "execution_count": null,
      "outputs": [
        {
          "output_type": "stream",
          "name": "stdout",
          "text": [
            "['B' 'M']\n",
            "Accuracy: 0.95 (+/- 0.02)\n",
            "[0.94736842 0.92982456 0.95614035 0.94736842 0.96460177]\n",
            "F1-score: 0.95 (+/- 0.05)\n",
            "[0.96298701 0.88445946 0.92105263 0.96230159 0.94286669 0.98095556\n",
            " 0.94398952 0.94398952 0.96298701 0.96190476]\n"
          ]
        }
      ]
    },
    {
      "cell_type": "code",
      "metadata": {
        "id": "0LUFueS6V2yH",
        "colab": {
          "base_uri": "https://localhost:8080/",
          "height": 297
        },
        "outputId": "cdc81786-6b75-4aa8-b42e-83064cf16475"
      },
      "source": [
        "############################### Import Libraries & Modules #################################\n",
        "\n",
        "# Fitting curve (aka validation curve)\n",
        "# Determine training and test scores for varying parameter values.\n",
        "from sklearn.model_selection import validation_curve\n",
        "# Split validation\n",
        "from sklearn.model_selection import train_test_split\n",
        "# Class for Logistic Regression classifier\n",
        "from sklearn.linear_model import LogisticRegression\n",
        "\n",
        "np.random.seed(42)                        # the seed used by the random number generator for np\n",
        "\n",
        "############################# Parameters - Varying Complexity #############################\n",
        "\n",
        "# Specify possible parameter values for C.\n",
        "# Parameter C: Inverse of regularization strength;\n",
        "# C must be a positive float; smaller values specify stronger regularization.\n",
        "param_range = [0.00001, 0.0001, 0.001, 0.01, 0.1 ,1 ,10 ,100, 1000, 10000, 100000, 1000000, 10000000, 100000000, 1000000000]\n",
        "\n",
        "# Compute scores for an estimator with different values of a specified parameter.\n",
        "# This is similar to grid search with one parameter.\n",
        "# However, this will also compute training scores and is merely a utility for plotting the results.\n",
        "\n",
        "########################## Estimate Scores - Varying Complexity ##########################\n",
        "\n",
        "# Determine training and test scores for varying parameter values.\n",
        "# sklearn documentation https://scikit-learn.org/stable/modules/generated/sklearn.model_selection.validation_curve.html\n",
        "train_scores, test_scores = validation_curve(\n",
        "                estimator=LogisticRegression(random_state=0), # build Logistic Regression models\n",
        "                X=X_train,                                    # data (features)\n",
        "                y=y_train,                                    # target variable\n",
        "                param_name=\"C\",                               # parameter C: Inverse of regularization strength;\n",
        "                                                              # must be a positive float. Smaller values of paramter C specify\n",
        "                                                              # stronger regularization.\n",
        "                param_range=param_range,                      # the values of the parameter that will be evaluated\n",
        "\n",
        "                cv=10,                                        # 10-fold cross-validation\n",
        "                scoring=\"accuracy\",                           # evaluation metric\n",
        "                n_jobs=4)         # number of CPU cores used when parallelizing over classes if multi_class=’ovr’”.\n",
        "                                  # this parameter is ignored when the ``solver``is set to ‘liblinear’ regardless of\n",
        "                                  # whether ‘multi_class’ is specified or not. If given a value of -1, all cores are used.\n",
        "\n",
        "\n",
        "# Cross validation statistics for training and testing data (mean and standard deviation)\n",
        "train_mean = np.mean(train_scores, axis=1) # compute the arithmetic mean along the specified axis (train data)\n",
        "train_std = np.std(train_scores, axis=1)   # compute the standard deviation along the specified axis (train data)\n",
        "test_mean = np.mean(test_scores, axis=1)   # compute the arithmetic mean along the specified axis (test data)\n",
        "test_std = np.std(test_scores, axis=1)     # compute the standard deviation along the specified axis (test data)\n",
        "\n",
        "############################## Visualization - Fitting Graph ##############################\n",
        "\n",
        "# Plot train accuracy means of cross-validation for all the parameters C in param_range\n",
        "plt.plot(param_range,                     # the horizontal coordinates of the data points\n",
        "         train_mean,                      # the vertical coordinates of the data points\n",
        "         color='blue',                    # aesthetic parameter - color\n",
        "         marker='o',                      # aesthetic parameter - marker\n",
        "         markersize=5,                    # aesthetic parameter - size of marker\n",
        "         label='training accuracy')       # specify label title\n",
        "\n",
        "# Fill the area around the line to indicate the size of standard deviations of performance for the training data\n",
        "plt.fill_between(param_range,             # the x coordinates of the nodes defining the curves\n",
        "                 train_mean + train_std,  # the y coordinates of the nodes defining the first curve\n",
        "                 train_mean - train_std,  # the y coordinates of the nodes defining the second curve\n",
        "                 alpha=0.15,              # level of transparency in the color fill\n",
        "                 color='blue')            # aesthetic parameter - color\n",
        "\n",
        "# Plot test accuracy means of cross-validation for all the parameters C in param_range\n",
        "plt.plot(param_range,\n",
        "         test_mean,\n",
        "         color='green',\n",
        "         linestyle='--',\n",
        "         marker='s',\n",
        "         markersize=5,\n",
        "         label='validation accuracy')\n",
        "\n",
        "# Fill the area around the line to indicate the size of standard deviations of performance for the test data\n",
        "plt.fill_between(param_range,\n",
        "                 test_mean + test_std,\n",
        "                 test_mean - test_std,\n",
        "                 alpha=0.15, color='green')\n",
        "\n",
        "# Grid and Axes Titles\n",
        "plt.grid()\n",
        "plt.xscale('log')\n",
        "plt.legend(loc='lower right')\n",
        "plt.xlabel('Parameter C')\n",
        "plt.ylabel('Accuracy')\n",
        "plt.ylim([0.9, 1.0]) # y limits in the plot\n",
        "plt.tight_layout()\n",
        "# plt.savefig('Fitting_graph_LR.png', dpi=300)\n",
        "plt.show()                            # display the figure\n",
        "\n"
      ],
      "execution_count": null,
      "outputs": [
        {
          "output_type": "display_data",
          "data": {
            "text/plain": [
              "<Figure size 432x288 with 1 Axes>"
            ],
            "image/png": "[encoded data removed]"
          },
          "metadata": {
            "needs_background": "light"
          }
        }
      ]
    },
    {
      "cell_type": "markdown",
      "metadata": {
        "id": "Hy16epAiV2yK"
      },
      "source": [
        "Similar to the *learning_curve* function, the *validation_curve* function (i.e., the function that plots the fitting graphs) uses the stratified k-fold cross-validation by default to estimate the performance of the model if we are using algorithms for the classification. Inside the *validation_curve* function, we specified the parameter that we wanted to evaluate. In this case, it is $C$, the inverse regularization parameter of the *LogisticRegression* classifier to assess the *LogisticRegression* object for a specific value range that we set via the param_range parameter. Similar to the learning curve example in the previous section, we plotted the average training and cross-validation accuracies and the corresponding standard deviations.\n",
        "\n",
        "\n",
        "Although the differences in the accuracy for varying values of $C$ are subtle, **we can see that the model slightly underfits the data when we increase the regularization strength (small values of $C$)**. However, for large values of $C$, it means lowering the strength of regularization, so the model tends to **slightly overfit the data**. In this case, the sweet spot appears to be around $C=100$."
      ]
    },
    {
      "cell_type": "markdown",
      "metadata": {
        "id": "13OQgY9fV2yK"
      },
      "source": [
        "# Fine-tuning machine learning models via grid search"
      ]
    },
    {
      "cell_type": "markdown",
      "metadata": {
        "id": "v8UXIYDWV2yL"
      },
      "source": [
        "In machine learning, we have two types of paramaters: **(1)** those learned from the training data, for example, the weights in logistic regression, and **(2)** the parameters of a learning algorithm that are optimized separately. The latter are the tunning parameters, also called hyperparameters, of a model, for example, the **regularization** parameter in logistic regression or the **depth** of a decision tree.\n",
        "\n",
        "In the previous section, we used validation curves to improve the performance of a model by tuning one of its hyperparameters. In this section, we will take a look at a powerful hyperparameter optimization technique called grid search that can further help to improve the performance of a model by finding the ** *optimal* combination of hyperparameter values**."
      ]
    },
    {
      "cell_type": "markdown",
      "metadata": {
        "id": "IASwsk92V2yL"
      },
      "source": [
        "## Tuning parameters via grid search and nested cross-validation"
      ]
    },
    {
      "cell_type": "markdown",
      "metadata": {
        "id": "CIvZcGC3V2yM"
      },
      "source": [
        "The approach of grid search is quite simple, it is a brute-force exchuastive search pradigm where we specify a list of values for different hyperparameters, and the computer evaluates the model performance for each combination of those to obtain the optimal set."
      ]
    },
    {
      "cell_type": "code",
      "metadata": {
        "scrolled": false,
        "id": "fjVAism8V2yM",
        "colab": {
          "base_uri": "https://localhost:8080/"
        },
        "outputId": "9fa72533-ab6c-4030-d241-baf49fed5f48"
      },
      "source": [
        "############################### Import Libraries & Modules #################################\n",
        "from sklearn.tree import DecisionTreeClassifier # A decision tree classifier\n",
        "# GridSearchCV performs an exhaustive search over specified parameter values for an estimator\n",
        "# The parameters of the estimator used to apply these methods are optimized by cross-validated\n",
        "# grid-search over a parameter grid.\n",
        "# Documentation: http://scikit-learn.org/stable/modules/generated/sklearn.model_selection.GridSearchCV.html\n",
        "from sklearn.model_selection import GridSearchCV, KFold, cross_val_score\n",
        "from sklearn.linear_model import LogisticRegression\n",
        "from sklearn.neighbors import KNeighborsClassifier\n",
        "from sklearn import neighbors, datasets\n",
        "# Standardize features by removing the mean and scaling to unit variance\n",
        "from sklearn.preprocessing import StandardScaler\n",
        "# Pipeline of transforms with a final estimator\n",
        "from sklearn.pipeline import Pipeline\n",
        "\n",
        "\n",
        "np.random.seed(42) # ensure reproducability\n",
        "\n",
        "################################# Nested Cross-Validation #################################\n",
        "\n",
        "##################################### Parameter Tuning ####################################\n",
        "\n",
        "# Exhaustive search over specified parameter values for an estimator.\n",
        "# GridSearchCV implements a “fit” and a “score” method.\n",
        "# It also implements “predict”, “predict_proba”, “decision_function”, “transform” and “inverse_transform”\n",
        "# if they are implemented in the estimator used.\n",
        "\n",
        "# The parameters of the estimator used to apply these methods are optimized by cross-validated\n",
        "# grid-search over a parameter grid.\n",
        "# KFold splits dataset into k consecutive folds (without shuffling by default)\n",
        "\n",
        "inner_cv = KFold(n_splits=5, shuffle=True) # inner cross-validation folds\n",
        "outer_cv = KFold(n_splits=5, shuffle=True) # outer cross-validation folds\n",
        "\n",
        "############################## Decision Tree Parameter Tuning ##############################\n",
        "\n",
        "# Choosing optimal depth of the tree\n",
        "gs = GridSearchCV(estimator=DecisionTreeClassifier(random_state=0),        # data science algorithm to be fit to the data later\n",
        "                  param_grid=[{'max_depth': [1, 2, 3, 4, 5, 6, 7, None]}], # dictionary with parameters names (str) as keys\n",
        "                                                                           # and lists of parameter settings to try as values,\n",
        "                  scoring='accuracy',                                      # specifying metric for evaluation\n",
        "                  cv=inner_cv)                                             # cross-validation folds\n",
        "\n",
        "gs = gs.fit(X,y)\n",
        "print(\" Parameter Tuning #1\")\n",
        "print(\"Non-nested CV Accuracy: \", gs.best_score_)\n",
        "print(\"Optimal Parameter: \", gs.best_params_)    # parameter setting that gave the best results on the hold out data\n",
        "print(\"Optimal Estimator: \", gs.best_estimator_) # estimator that was chosen by the search, i.e. estimator which gave highest score\n",
        "nested_score_gs = cross_val_score(gs, X=X, y=y, cv=outer_cv) #estimate generalization performance (outer cross-validation)\n",
        "print(\"Nested CV Accuracy: \",nested_score_gs.mean(), \" +/- \", nested_score_gs.std())\n",
        "\n",
        "# See all the parameters you can optimize here http://scikit-learn.org/stable/modules/generated/sklearn.tree.DecisionTreeClassifier.html\n",
        "# Choosing optimal depth of the tree AND optimal splitting criterion\n",
        "gs_dt = GridSearchCV(estimator=DecisionTreeClassifier(random_state=0),\n",
        "                  param_grid=[{'max_depth': [1, 2, 3, 4, 5, 6, 7, None],\n",
        "                               'criterion':['gini','entropy']}],\n",
        "                  scoring='accuracy',\n",
        "                  cv=inner_cv)\n",
        "\n",
        "gs_dt = gs_dt.fit(X,y)\n",
        "print(\"\\n Parameter Tuning #2\")\n",
        "print(\"Non-nested CV Accuracy: \", gs_dt.best_score_)\n",
        "print(\"Optimal Parameter: \", gs_dt.best_params_)\n",
        "print(\"Optimal Estimator: \", gs_dt.best_estimator_)\n",
        "nested_score_gs_dt = cross_val_score(gs_dt, X=X, y=y, cv=outer_cv)\n",
        "print(\"Nested CV Accuracy: \",nested_score_gs_dt.mean(), \" +/- \", nested_score_gs_dt.std())\n",
        "\n",
        "# Choosing depth of the tree AND splitting criterion AND min_samples_leaf AND min_samples_split\n",
        "gs_dt2 = GridSearchCV(estimator=DecisionTreeClassifier(random_state=0),\n",
        "                  param_grid=[{'max_depth': [1, 2, 3, 4, 5, 6, 7, None],\n",
        "                               'criterion':['gini','entropy'],\n",
        "                               'min_samples_leaf':[1,2,3,4,5],\n",
        "                               'min_samples_split':[2,3,4,5]}],\n",
        "                  scoring='accuracy',\n",
        "                  cv=inner_cv,\n",
        "                  n_jobs=4)\n",
        "\n",
        "gs_dt2 = gs_dt2.fit(X,y)\n",
        "print(\"\\n Parameter Tuning #3\")\n",
        "print(\"Non-nested CV Accuracy: \", gs_dt2.best_score_)\n",
        "print(\"Optimal Parameter: \", gs_dt2.best_params_)\n",
        "print(\"Optimal Estimator: \", gs_dt2.best_estimator_)\n",
        "nested_score_gs_dt2 = cross_val_score(gs_dt2, X=X, y=y, cv=outer_cv)\n",
        "print(\"Nested CV Accuracy: \",nested_score_gs_dt2.mean(), \" +/- \", nested_score_gs_dt2.std())\n",
        "\n",
        "############################ Logistic Regression Parameter Tuning ############################\n",
        "#To ignore the convergence warnings\n",
        "from  warnings import simplefilter\n",
        "from sklearn.exceptions import ConvergenceWarning\n",
        "simplefilter(\"ignore\", category=ConvergenceWarning)\n",
        "\n",
        "# Choosing C parameter (i.e., regularization parameter) for Logistic Regression\n",
        "gs_lr = GridSearchCV(estimator=LogisticRegression(random_state=0, solver='liblinear'),\n",
        "                  param_grid=[{'C': [ 0.00001, 0.0001, 0.001, 0.01, 0.1 ,1 ,10 ,100, 1000, 10000, 100000, 1000000]}],\n",
        "                  scoring='accuracy',\n",
        "                  cv=inner_cv)\n",
        "\n",
        "gs_lr = gs_lr.fit(X,y)\n",
        "print(\"\\n Parameter Tuning #4\")\n",
        "print(\"Non-nested CV Accuracy: \", gs_lr.best_score_)\n",
        "print(\"Optimal Parameter: \", gs_lr.best_params_)\n",
        "print(\"Optimal Estimator: \", gs_lr.best_estimator_)\n",
        "nested_score_gs_lr = cross_val_score(gs_lr, X=X, y=y, cv=outer_cv)\n",
        "print(\"Nested CV Accuracy:\",nested_score_gs_lr.mean(), \" +/- \", nested_score_gs_lr.std())\n",
        "\n",
        "# Choosing C parameter for Logistic Regression AND type of penalty (ie., l1 vs l2)\n",
        "# See other parameters here http://scikit-learn.org/stable/modules/generated/sklearn.linear_model.LogisticRegression.html\n",
        "gs_lr2 = GridSearchCV(estimator=LogisticRegression(random_state=0, solver='liblinear'),\n",
        "                  param_grid=[{'C': [ 0.00001, 0.0001, 0.001, 0.01, 0.1 ,1 ,10 ,100, 1000, 10000, 100000, 1000000, 10000000],\n",
        "                              'penalty':['l1','l2']}],\n",
        "                  scoring='accuracy',\n",
        "                  cv=inner_cv)\n",
        "\n",
        "gs_lr2 = gs_lr2.fit(X,y)\n",
        "print(\"\\n Parameter Tuning #5\")\n",
        "print(\"Non-nested CV Accuracy: \", gs_lr2.best_score_)\n",
        "print(\"Optimal Parameter: \", gs_lr2.best_params_)\n",
        "print(\"Optimal Estimator: \", gs_lr2.best_estimator_)\n",
        "nested_score_gs_lr2 = cross_val_score(gs_lr2, X=X, y=y, cv=outer_cv)\n",
        "print(\"Nested CV Accuracy:\",nested_score_gs_lr2.mean(), \" +/- \", nested_score_gs_lr2.std())\n",
        "\n",
        "################################### kNN Parameter Tuning ###################################\n",
        "\n",
        "#Normalize Data\n",
        "pipe = Pipeline([\n",
        "        ('sc', StandardScaler()),\n",
        "        ('knn', KNeighborsClassifier(p=2,\n",
        "                                     metric='minkowski'))\n",
        "      ])\n",
        "\n",
        "#Parameters to optimize\n",
        "params = {\n",
        "        'knn__n_neighbors': [1,3,5,7,9,11,13,15,17,19,21]\n",
        "    }\n",
        "\n",
        "# Choosing k for kNN\n",
        "gs_knn = GridSearchCV(estimator=pipe,\n",
        "                  param_grid=params,\n",
        "                  scoring='accuracy',\n",
        "                  cv=inner_cv)\n",
        "#print(len(y))\n",
        "gs_knn = gs_knn.fit(X,y)\n",
        "print(\"\\n Parameter Tuning #6\")\n",
        "print(\"Non-nested CV Accuracy: \", gs_knn.best_score_)\n",
        "print(\"Optimal Parameter: \", gs_knn.best_params_)\n",
        "print(\"Optimal Estimator: \", gs_knn.best_estimator_)\n",
        "nested_score_gs_knn = cross_val_score(gs_knn, X=X, y=y, cv=outer_cv)\n",
        "print(\"Nested CV Accuracy: \",nested_score_gs_knn.mean(), \" +/- \", nested_score_gs_knn.std())\n",
        "\n",
        "#Parameters to optimize:  k for number of nearest neighbors AND type of distance\n",
        "\n",
        "params = {\n",
        "        'knn__n_neighbors': [1,3,5,7,9,11,13,15,17,19,21],\n",
        "        'knn__weights': ['uniform', 'distance']\n",
        "    }\n",
        "\n",
        "gs_knn2 = GridSearchCV(estimator=pipe,\n",
        "                  param_grid=params,\n",
        "                  scoring='accuracy',\n",
        "                  cv=inner_cv,\n",
        "                  n_jobs=4)\n",
        "\n",
        "gs_knn2 = gs_knn2.fit(X,y)\n",
        "print(\"\\n Parameter Tuning #7\")\n",
        "print(\"Non-nested CV Accuracy: \", gs_knn2.best_score_)\n",
        "print(\"Optimal Parameter: \", gs_knn2.best_params_)\n",
        "print(\"Optimal Estimator: \", gs_knn2.best_estimator_) # Estimator that was chosen by the search, i.e. estimator which gave highest score\n",
        "nested_score_gs_knn2 = cross_val_score(gs_knn2, X=X, y=y, cv=outer_cv)\n",
        "print(\"Nested CV Accuracy: \",nested_score_gs_knn2.mean(), \" +/- \", nested_score_gs_knn2.std())"
      ],
      "execution_count": null,
      "outputs": [
        {
          "output_type": "stream",
          "name": "stdout",
          "text": [
            " Parameter Tuning #1\n",
            "Non-nested CV Accuracy:  0.947290793355069\n",
            "Optimal Parameter:  {'max_depth': 4}\n",
            "Optimal Estimator:  DecisionTreeClassifier(max_depth=4, random_state=0)\n",
            "Nested CV Accuracy:  0.9260984319205093  +/-  0.02734813979736994\n",
            "\n",
            " Parameter Tuning #2\n",
            "Non-nested CV Accuracy:  0.9402577239559073\n",
            "Optimal Parameter:  {'criterion': 'gini', 'max_depth': 5}\n",
            "Optimal Estimator:  DecisionTreeClassifier(max_depth=5, random_state=0)\n",
            "Nested CV Accuracy:  0.9314081664337834  +/-  0.023350669496174037\n",
            "\n",
            " Parameter Tuning #3\n",
            "Non-nested CV Accuracy:  0.9402732494954199\n",
            "Optimal Parameter:  {'criterion': 'entropy', 'max_depth': 3, 'min_samples_leaf': 4, 'min_samples_split': 2}\n",
            "Optimal Estimator:  DecisionTreeClassifier(criterion='entropy', max_depth=3, min_samples_leaf=4,\n",
            "                       random_state=0)\n",
            "Nested CV Accuracy:  0.9349635149821456  +/-  0.020492912340369714\n",
            "\n",
            " Parameter Tuning #4\n",
            "Non-nested CV Accuracy:  0.9578481602235678\n",
            "Optimal Parameter:  {'C': 1000000}\n",
            "Optimal Estimator:  LogisticRegression(C=1000000, random_state=0, solver='liblinear')\n",
            "Nested CV Accuracy: 0.9613258810743673  +/-  0.014282179995099729\n",
            "\n",
            " Parameter Tuning #5\n",
            "Non-nested CV Accuracy:  0.9630957925787922\n",
            "Optimal Parameter:  {'C': 100, 'penalty': 'l1'}\n",
            "Optimal Estimator:  LogisticRegression(C=100, penalty='l1', random_state=0, solver='liblinear')\n",
            "Nested CV Accuracy: 0.9613569321533924  +/-  0.023250157643480488\n",
            "\n",
            " Parameter Tuning #6\n",
            "Non-nested CV Accuracy:  0.9700357087408786\n",
            "Optimal Parameter:  {'knn__n_neighbors': 9}\n",
            "Optimal Estimator:  Pipeline(steps=[('sc', StandardScaler()),\n",
            "                ('knn', KNeighborsClassifier(n_neighbors=9))])\n",
            "Nested CV Accuracy:  0.9630802670392795  +/-  0.011685028917089784\n",
            "\n",
            " Parameter Tuning #7\n",
            "Non-nested CV Accuracy:  0.971914299021891\n",
            "Optimal Parameter:  {'knn__n_neighbors': 3, 'knn__weights': 'uniform'}\n",
            "Optimal Estimator:  Pipeline(steps=[('sc', StandardScaler()),\n",
            "                ('knn', KNeighborsClassifier(n_neighbors=3))])\n",
            "Nested CV Accuracy:  0.9666356155876417  +/-  0.014000249411212926\n"
          ]
        }
      ]
    },
    {
      "cell_type": "markdown",
      "metadata": {
        "id": "rcKLTDNKV2yP"
      },
      "source": [
        "Using the preceding code, we initialized the GridSearchCV objected from the *sklearn.model_selection* module to train and tune various data mining algorithms (i.e., Decision Tree, Logistic Regression, kNN). We set the *param_grid* to a list of dictionaries to specify the parameters that we'd want to tune (e.g., k for KNN, C for logistic regression, max depth for decision tree, etc.). After we used the training data to perform the grid search, we obtained the score of the best-performing model via the *best_score_* attribute and lookd at tis paramaters, that can be accessed via the *best_params_* attribute. For instance, $k=5$ is the $k$ value that yields the best accuracy for kNN algorithm."
      ]
    },
    {
      "cell_type": "markdown",
      "metadata": {
        "id": "XJFtjZ0wV2yP"
      },
      "source": [
        "Finally, we use the independent test dataset to estimate the performance of the best selected model, which is available via the *best_estimator_* attribute of the *GridSearchCV* object."
      ]
    },
    {
      "cell_type": "markdown",
      "metadata": {
        "id": "UWxPrvXfV2yQ"
      },
      "source": [
        "# Plotting a ROC graph"
      ]
    },
    {
      "cell_type": "markdown",
      "metadata": {
        "id": "ayLgNNacV2yQ"
      },
      "source": [
        "*ROC* graphs are useful tools for selecting models for classification based on their performance with respect to the false positive and true positive rates, which are computed by shifting the decision threshold of the classifier. The diagonal of the ROC graph can be interpreted as random guessing, and classification models that fall below the diagonal are considered as worse than random guessing. A perfect classifier would fall into the top-left corner of the graph with TP rate=1 and FP rate=0. Based on the ROC curve, we can then compute the AUC (i.e., Area Under the Curve) to characterize the performance of a classificaton model."
      ]
    },
    {
      "cell_type": "code",
      "metadata": {
        "id": "HCKnyGnLV2yR",
        "colab": {
          "base_uri": "https://localhost:8080/",
          "height": 366
        },
        "outputId": "7d665880-f9e1-4f97-9681-cba85886fd48"
      },
      "source": [
        "############################### Import Libraries & Modules #################################\n",
        "\n",
        "import numpy as np\n",
        "from sklearn.linear_model import LogisticRegression\n",
        "from sklearn.tree import DecisionTreeClassifier\n",
        "from sklearn.neighbors import KNeighborsClassifier\n",
        "from sklearn.metrics import roc_curve\n",
        "from sklearn.metrics import auc\n",
        "\n",
        "######################################## Classifiers ########################################\n",
        "# Logistic Regression Classifier\n",
        "clf1 = LogisticRegression(penalty='l2',\n",
        "                          C=0.01,\n",
        "                          random_state=1,\n",
        "                          solver='liblinear')\n",
        "\n",
        "# Decision Tree Classifier\n",
        "clf2 = DecisionTreeClassifier(max_depth=1,\n",
        "                              criterion='entropy',\n",
        "                              random_state=0)\n",
        "\n",
        "# kNN Classifier\n",
        "\n",
        "clf3 = Pipeline([\n",
        "        ('sc', StandardScaler()),\n",
        "        ('knn', KNeighborsClassifier(n_neighbors=5,\n",
        "                                     p=2,\n",
        "                                     metric='minkowski'))\n",
        "      ])\n",
        "\n",
        "# Label the classifiers\n",
        "clf_labels = ['Logistic regression', 'Decision tree', 'kNN']\n",
        "all_clf = [clf1, clf2, clf3]\n",
        "\n",
        "#################################### Cross - Validation ####################################\n",
        "\n",
        "\n",
        "print('10-fold cross validation:\\n')\n",
        "for clf, label in zip([clf1, clf2, clf3], clf_labels): #For all classifiers\n",
        "    scores = cross_val_score(estimator=clf,  # estimate AUC based on cross validation\n",
        "                             X=X,\n",
        "                             y=y,\n",
        "                             cv=10,\n",
        "                             scoring='roc_auc')\n",
        "    print(\"ROC AUC: %0.2f (+/- %0.2f) [%s]\" # print peformance statistics based on cross-validation\n",
        "          % (scores.mean(), scores.std(), label))\n",
        "\n",
        "##################################### Visualization ######################################\n",
        "\n",
        "colors = [ 'orange', 'blue', 'green']      # colors for visualization\n",
        "linestyles = [':', '--', '-.', '-']        # line styles for visualization\n",
        "for clf, label, clr, ls in zip(all_clf,\n",
        "               clf_labels, colors, linestyles):\n",
        "\n",
        "    # Assuming the label of the positive class is 1 and data is normalized\n",
        "    y_pred = clf.fit(X_train, y_train).predict_proba(X_test)[:, 1] # make predictions based on the classifiers\n",
        "\n",
        "    fpr, tpr, thresholds = roc_curve(y_true=y_test,       # build ROC curve\n",
        "                                     y_score=y_pred)\n",
        "    roc_auc = auc(x=fpr, y=tpr)                           # compute Area Under the Curve (AUC)\n",
        "    plt.plot(fpr, tpr,                                    # plot ROC Curve and create label with AUC values\n",
        "             color=clr,\n",
        "             linestyle=ls,\n",
        "             label='%s (auc = %0.2f)' % (label, roc_auc))\n",
        "\n",
        "plt.legend(loc='lower right')    # where to place the legend\n",
        "plt.plot([0, 1], [0, 1],         # visualize random classifier\n",
        "         linestyle='--',         # aesthetic parameters\n",
        "         color='gray',\n",
        "         linewidth=2)\n",
        "\n",
        "plt.xlim([-0.1, 1.1])   #limits for x axis\n",
        "plt.ylim([-0.1, 1.1])   #limits for y axis\n",
        "plt.grid(alpha=0.5)\n",
        "plt.xlabel('False positive rate (FPR)')\n",
        "plt.ylabel('True positive rate (TPR)')\n",
        "\n",
        "\n",
        "#plt.savefig('ROC_all_classifiers', dpi=300)\n",
        "plt.show()"
      ],
      "execution_count": null,
      "outputs": [
        {
          "output_type": "stream",
          "name": "stdout",
          "text": [
            "10-fold cross validation:\n",
            "\n",
            "ROC AUC: 0.98 (+/- 0.01) [Logistic regression]\n",
            "ROC AUC: 0.87 (+/- 0.04) [Decision tree]\n",
            "ROC AUC: 0.99 (+/- 0.01) [kNN]\n"
          ]
        },
        {
          "output_type": "display_data",
          "data": {
            "text/plain": [
              "<Figure size 432x288 with 1 Axes>"
            ],
            "image/png": "[encoded data removed]"
          },
          "metadata": {
            "needs_background": "light"
          }
        }
      ]
    },
    {
      "cell_type": "markdown",
      "metadata": {
        "id": "PG0h3ZPUV2yS"
      },
      "source": [
        "## ROC graph with cross-validation (An additional example - Focusing on a single classifier)"
      ]
    },
    {
      "cell_type": "markdown",
      "metadata": {
        "id": "p3u76KWQV2yT"
      },
      "source": [
        "This example shows the ROC response of different datasets, created from K-fold cross-validation. Taking all of these curves, it is possible to calculate the mean area under curve, and see the variance of the curve when the training set is split into different subsets. This roughly shows how the classifier output is affected by changes in the training data, and how different the splits generated by K-fold cross-validation are from one another."
      ]
    },
    {
      "cell_type": "markdown",
      "metadata": {
        "id": "jvg-rvfrV2yT"
      },
      "source": [
        "By executing the following code, we will plot an ROC curve of a classifier that only uses two features from the Breast Cancer Wisconsin dataset to predict whether a tumor is bening or malignant. By using just two features, we are making the classification task much more challenging so that the resulting ROC curve becomes visually more interesting. For similar reasons, we are also reducing the number of fols in the *StratifiedKFold* validator to three."
      ]
    },
    {
      "cell_type": "code",
      "metadata": {
        "id": "IdWxAvMxV2yT",
        "colab": {
          "base_uri": "https://localhost:8080/",
          "height": 369
        },
        "outputId": "8f1b9bda-4d41-4066-92c4-3b6552a57296"
      },
      "source": [
        "############################### Import Libraries & Modules #################################\n",
        "\n",
        "from sklearn.metrics import roc_curve, auc\n",
        "from numpy import interp\n",
        "from sklearn.model_selection import StratifiedKFold\n",
        "\n",
        "######################################## Classifier ########################################\n",
        "\n",
        "# Initiate an instance of the Logistic Regression Classifier\n",
        "lr = LogisticRegression(penalty='l2',\n",
        "                        random_state=1,\n",
        "                        C=100,\n",
        "                        solver='liblinear')\n",
        "\n",
        "X_train2 = X_train[:, [4, 14]] # Classifier that only uses two features from the Breast Cancer Wisconsin dataset\n",
        "\n",
        "#################################### Cross - Validation ####################################\n",
        "\n",
        "# This cross-validation object is a variation of KFold that returns stratified folds\n",
        "# The folds are made by preserving the percentage of samples for each class\n",
        "cv = list(StratifiedKFold(n_splits=5,                 # number of folds. Must be at least 2\n",
        "                          ).split(X_train, y_train))  # generate indices to split data into training and test set\n",
        "\n",
        "##################################### Visualization ######################################\n",
        "\n",
        "fig = plt.figure(figsize=(7, 5)) # set figure size\n",
        "\n",
        "mean_tpr = 0.0\n",
        "mean_fpr = np.linspace(0, 1, 100)\n",
        "all_tpr = []\n",
        "\n",
        "for i, (train, test) in enumerate(cv): # enumarate allows us to loop over something and have an automatic counter (e.g, 0, 1, 2, etc.)\n",
        "    probas = lr.fit(X_train2[train],y_train[train]).predict_proba(X_train2[test]) # make predictions based on classifiers\n",
        "\n",
        "    # roc_curve will compute Receiver operating characteristic (ROC)\n",
        "    fpr, tpr, thresholds = roc_curve(y_train[test], # data for ROC curves (true labels)\n",
        "                                     probas[:, 1],  # predictions based on estimators\n",
        "                                     pos_label=1)   # the label of the positive class\n",
        "    mean_tpr += interp(mean_fpr, fpr, tpr)          # one-dimensional linear interpolation (continuous ROC curve)\n",
        "\n",
        "    mean_tpr[0] = 0.0\n",
        "    # auc will compute Area Under the Curve (AUC)\n",
        "    roc_auc = auc(fpr, tpr)\n",
        "    plt.plot(fpr,                                   # the horizontal coordinates of the data points\n",
        "             tpr,                                   # the vertical coordinates of the data points\n",
        "             label='ROC fold %d (area = %0.2f)'\n",
        "                   % (i+1, roc_auc))\n",
        "\n",
        "plt.plot([0, 1],                                    # plot random guessing classifier\n",
        "         [0, 1],\n",
        "         linestyle='--',\n",
        "         color=(0.6, 0.6, 0.6),\n",
        "         label='random guessing')\n",
        "\n",
        "mean_tpr /= len(cv)                                 # plot mearn ROC curve\n",
        "mean_tpr[-1] = 1.0\n",
        "mean_auc = auc(mean_fpr, mean_tpr)\n",
        "plt.plot(mean_fpr,\n",
        "         mean_tpr,\n",
        "         'k--',\n",
        "         label='mean ROC (area = %0.2f)' % mean_auc, lw=2)\n",
        "\n",
        "plt.plot([0, 0, 1],                                 # plot perfect classifier\n",
        "         [0, 1, 1],\n",
        "         linestyle=':',\n",
        "         color='black',\n",
        "         label='perfect performance')\n",
        "\n",
        "# Figure paramaters: x axis limits, y axis limits, labels of axes, legend position\n",
        "plt.xlim([-0.05, 1.05])\n",
        "plt.ylim([-0.05, 1.05])\n",
        "plt.xlabel('false positive rate')\n",
        "plt.ylabel('true positive rate')\n",
        "plt.legend(loc=\"lower right\")\n",
        "\n",
        "plt.tight_layout()\n",
        "# plt.savefig('ROC_CrossValidation_Oneclassifier.png', dpi=300)\n",
        "plt.show()                                          # display figure"
      ],
      "execution_count": null,
      "outputs": [
        {
          "output_type": "display_data",
          "data": {
            "text/plain": [
              "<Figure size 504x360 with 1 Axes>"
            ],
            "image/png": "[encoded data removed]"
          },
          "metadata": {
            "needs_background": "light"
          }
        }
      ]
    },
    {
      "cell_type": "markdown",
      "metadata": {
        "id": "alfYdXDyV2yV"
      },
      "source": [
        "# Dealing with class imbalance"
      ]
    },
    {
      "cell_type": "markdown",
      "source": [
        "Class imbalance influences a learning algorithm during model fitting. Since machine learning algorithms typically optimize a reward or cost function that is computed as a sum over the training examples that it sees furing fitting, the decision rule is likely going to be biased towards the majority class. In other words, the algorithm implicitly learns a model tha optimizes the predictions based on the most abundant class in order to minimize the cost or maximize the reward during training.\n",
        "\n",
        "\n",
        "To illustrate how to deal with class imbalance, we first create an imbalanced data set from our breast cancer data set, which originally consisted of 357 bening tumors (class 0) and 212 malignant tumors (class 1). We take all 357 bening tumor samples and stacked them with the first 40 malignant samples to create a severe class imbalance.\n"
      ],
      "metadata": {
        "id": "ir93gLGlvm4Z"
      }
    },
    {
      "cell_type": "code",
      "metadata": {
        "id": "5p0aU6TkV2yW",
        "colab": {
          "base_uri": "https://localhost:8080/"
        },
        "outputId": "487f5033-3072-4e4b-f034-5e24407c01fe"
      },
      "source": [
        "from collections import Counter\n",
        "\n",
        "# Creating a dataset with severe class imbalance\n",
        "X_imb = np.vstack((X[y == 0], X[y == 1][:40])) # Features\n",
        "y_imb = np.hstack((y[y == 0], y[y == 1][:40])) # Target Variable\n",
        "\n",
        "print('Original dataset shape %s' % Counter(y_imb))\n",
        "\n",
        "# If we were to predict the accuracy of the model that always predicts the majority class\n",
        "y_pred = np.zeros(y_imb.shape[0])\n",
        "np.mean(y_pred == y_imb) * 100\n",
        "\n",
        "# Estimated accuracy based on naive rule ~90%\n",
        "# It would make sense to focus on other metrics than accuracy when comparing different models\n",
        "# such as precision, recall, ROC curve"
      ],
      "execution_count": null,
      "outputs": [
        {
          "output_type": "stream",
          "name": "stdout",
          "text": [
            "Original dataset shape Counter({0: 357, 1: 40})\n"
          ]
        },
        {
          "output_type": "execute_result",
          "data": {
            "text/plain": [
              "89.92443324937027"
            ]
          },
          "metadata": {},
          "execution_count": 42
        }
      ]
    },
    {
      "cell_type": "markdown",
      "source": [
        "To enable the algorithm to better discriminate the rare class from the other class, we can use the resample method. To do so, we can either oversample/upsample the minority class (malignant tumour records in this example) or undersample/downsample the majority class (benign tumour records in this example). In any case, we have to:\n",
        "\n",
        "* Make sure to upsample/downsample **after** you split into train and test sets (i.e., we perform oversampling/undersampling in the train set)\n",
        "* Estimate performance metrics on unsampled data (more realistic estimate of performance)"
      ],
      "metadata": {
        "id": "je5-rTjxwOIC"
      }
    },
    {
      "cell_type": "markdown",
      "source": [
        "# Oversampling\n",
        "\n",
        "This resampling strategy corresponds to taking the minority class from the imbalanced data set and repeatedly draw samples from it until the dataset becomes more balanced.\n"
      ],
      "metadata": {
        "id": "fWL-QbM9xm-j"
      }
    },
    {
      "cell_type": "code",
      "source": [
        "from imblearn.over_sampling import RandomOverSampler\n",
        "\n",
        "print('Original dataset shape %s' % Counter(y_imb))\n",
        "\n",
        "# Documentation https://imbalanced-learn.org/stable/references/generated/imblearn.over_sampling.RandomOverSampler.html\n",
        "ros = RandomOverSampler(random_state=42) # default sampling strategy: resample all classes but the majority class\n",
        "X_oversampled, y_oversampled = ros.fit_resample(X_imb, y_imb)\n",
        "\n",
        "print('Resampled dataset shape %s' % Counter(y_oversampled))"
      ],
      "metadata": {
        "colab": {
          "base_uri": "https://localhost:8080/"
        },
        "id": "tdg2L2mG4cr_",
        "outputId": "c9826e0f-2a72-4f30-fc5c-b8504b998034"
      },
      "execution_count": null,
      "outputs": [
        {
          "output_type": "stream",
          "name": "stdout",
          "text": [
            "Original dataset shape Counter({0: 357, 1: 40})\n",
            "Resampled dataset shape Counter({0: 357, 1: 357})\n"
          ]
        }
      ]
    },
    {
      "cell_type": "markdown",
      "source": [
        "The new balanced dataset doesn't necessarily need to have exactly the same observations in both classes. In the following example, we oversample by creating a more balanced dataset but not a perfectly balanced dataset."
      ],
      "metadata": {
        "id": "qH1xM3BG7gmr"
      }
    },
    {
      "cell_type": "code",
      "source": [
        "print('Original dataset shape %s' % Counter(y_imb))\n",
        "\n",
        "ros = RandomOverSampler(random_state=42,\n",
        "                        sampling_strategy=0.7) # default sampling strategy: resample all classes but the majority class\n",
        "                                               # the float number corresponds to the desired ratio of the number of samples\n",
        "                                               # in the minority class over the number of samples in the majority class after resampling.\n",
        "X_oversampled, y_oversampled = ros.fit_resample(X_imb, y_imb)\n",
        "\n",
        "print('Resampled dataset shape %s' % Counter(y_oversampled))"
      ],
      "metadata": {
        "colab": {
          "base_uri": "https://localhost:8080/"
        },
        "id": "hbuo73Mh7g53",
        "outputId": "f05fe9d8-9b0c-42b9-b49b-95100895503f"
      },
      "execution_count": null,
      "outputs": [
        {
          "output_type": "stream",
          "name": "stdout",
          "text": [
            "Original dataset shape Counter({0: 357, 1: 40})\n",
            "Resampled dataset shape Counter({0: 357, 1: 249})\n"
          ]
        }
      ]
    },
    {
      "cell_type": "markdown",
      "source": [
        "# Undersampling\n",
        "\n",
        "This resampling strategy corresponds to taking the majority class from the imbalanced data set and repeatedly remove samples from it until the dataset becomes more balanced.\n"
      ],
      "metadata": {
        "id": "zNAxmkngy4KS"
      }
    },
    {
      "cell_type": "code",
      "source": [
        "from imblearn.under_sampling import RandomUnderSampler\n",
        "\n",
        "print('Original dataset shape %s' % Counter(y_imb))\n",
        "\n",
        "#Documentation https://imbalanced-learn.org/stable/references/generated/imblearn.under_sampling.RandomUnderSampler.html\n",
        "ros = RandomUnderSampler(random_state=42) # resample all classes but the minority class\n",
        "X_undersampled, y_undersampled = ros.fit_resample(X_imb, y_imb)\n",
        "\n",
        "print('Resampled dataset shape %s' % Counter(y_undersampled))"
      ],
      "metadata": {
        "colab": {
          "base_uri": "https://localhost:8080/"
        },
        "id": "F2_YbOAdzPWp",
        "outputId": "f0c4bb9c-33ff-4d10-dc5c-3b3d45ea812d"
      },
      "execution_count": null,
      "outputs": [
        {
          "output_type": "stream",
          "name": "stdout",
          "text": [
            "Original dataset shape Counter({0: 357, 1: 40})\n",
            "Resampled dataset shape Counter({0: 40, 1: 40})\n"
          ]
        }
      ]
    },
    {
      "cell_type": "code",
      "source": [
        "print('Original dataset shape %s' % Counter(y_imb))\n",
        "\n",
        "ros = RandomUnderSampler(random_state=42,\n",
        "                         sampling_strategy=0.6) # resample all classes but the minority class\n",
        "                                                # corresponds to the desired ratio of the number of samples in the minority class\n",
        "                                                # over the number of samples in the majority class after resampling.\n",
        "X_undersampled, y_undersampled = ros.fit_resample(X_imb, y_imb)\n",
        "\n",
        "print('Resampled dataset shape %s' % Counter(y_undersampled))"
      ],
      "metadata": {
        "colab": {
          "base_uri": "https://localhost:8080/"
        },
        "id": "6Lrx2hJG8EHN",
        "outputId": "cf58138b-8c10-4eb6-b464-e4f5bb6385d8"
      },
      "execution_count": null,
      "outputs": [
        {
          "output_type": "stream",
          "name": "stdout",
          "text": [
            "Original dataset shape Counter({0: 357, 1: 40})\n",
            "Resampled dataset shape Counter({0: 66, 1: 40})\n"
          ]
        }
      ]
    }
  ]
}